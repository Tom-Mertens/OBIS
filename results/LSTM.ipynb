{
 "cells": [
  {
   "cell_type": "code",
   "execution_count": 30,
   "metadata": {
    "ExecuteTime": {
     "end_time": "2021-02-19T10:13:44.950429Z",
     "start_time": "2021-02-19T10:13:39.646691Z"
    },
    "pycharm": {
     "is_executing": true
    },
    "scrolled": true
   },
   "outputs": [
    {
     "ename": "KeyError",
     "evalue": "'T3'",
     "output_type": "error",
     "traceback": [
      "\u001b[1;31m---------------------------------------------------------------------------\u001b[0m",
      "\u001b[1;31mKeyError\u001b[0m                                  Traceback (most recent call last)",
      "\u001b[1;32m<ipython-input-30-c049f5e150fd>\u001b[0m in \u001b[0;36m<module>\u001b[1;34m\u001b[0m\n\u001b[0;32m     19\u001b[0m     \u001b[0mresults\u001b[0m \u001b[1;33m=\u001b[0m \u001b[0mpickle\u001b[0m\u001b[1;33m.\u001b[0m\u001b[0mload\u001b[0m\u001b[1;33m(\u001b[0m\u001b[0mf\u001b[0m\u001b[1;33m)\u001b[0m\u001b[1;33m\u001b[0m\u001b[1;33m\u001b[0m\u001b[0m\n\u001b[0;32m     20\u001b[0m \u001b[1;33m\u001b[0m\u001b[0m\n\u001b[1;32m---> 21\u001b[1;33m \u001b[1;32mdel\u001b[0m \u001b[0mdata\u001b[0m\u001b[1;33m[\u001b[0m\u001b[1;34m'T3'\u001b[0m\u001b[1;33m]\u001b[0m \u001b[1;31m#unusable trajectory, not enough intersections.\u001b[0m\u001b[1;33m\u001b[0m\u001b[1;33m\u001b[0m\u001b[0m\n\u001b[0m",
      "\u001b[1;31mKeyError\u001b[0m: 'T3'"
     ]
    }
   ],
   "source": [
    "import keras\n",
    "import math\n",
    "import pandas as pd\n",
    "import numpy as np\n",
    "from keras.callbacks import EarlyStopping\n",
    "from sklearn.model_selection import train_test_split\n",
    "from sklearn.model_selection import GridSearchCV\n",
    "from sklearn.preprocessing import StandardScaler\n",
    "from sklearn.metrics import roc_auc_score\n",
    "import matplotlib.pyplot as plt\n",
    "from sklearn.metrics import mean_squared_error as mse\n",
    "import time\n",
    "import pickle\n",
    "pd.set_option('display.max_rows', 500)\n",
    "import os\n",
    "#os.environ[\"CUDA_VISIBLE_DEVICES\"] = \"-1\"\n",
    "\n",
    "with open('resultsT123.pickle', 'rb') as f:\n",
    "    results = pickle.load(f)\n",
    " \n",
    "del data['T3'] #unusable trajectory, not enough intersections."
   ]
  },
  {
   "cell_type": "code",
   "execution_count": 2,
   "metadata": {
    "ExecuteTime": {
     "end_time": "2021-02-19T14:03:27.527623Z",
     "start_time": "2021-02-19T14:03:27.520877Z"
    }
   },
   "outputs": [],
   "source": [
    "#used functions:\n",
    "\n",
    "def series_to_supervised(data, n_in=1, n_out=1, dropnan=True):\n",
    "\tn_vars = 1 if type(data) is list else data.shape[1]\n",
    "\tdf = pd.DataFrame(data)\n",
    "\tcols, names = list(), list()\n",
    "\t# input sequence (t-n, ... t-1)\n",
    "\tfor i in range(n_in, 0, -1):\n",
    "\t\tcols.append(df.shift(i))\n",
    "\t\tnames += [('var%d(t-%d)' % (j+1, i)) for j in range(n_vars)]\n",
    "\t# forecast sequence (t, t+1, ... t+n)\n",
    "\tfor i in range(0, n_out):\n",
    "\t\tcols.append(df.shift(-i))\n",
    "\t\tif i == 0:\n",
    "\t\t\tnames += [('var%d(t)' % (j+1)) for j in range(n_vars)]\n",
    "\t\telse:\n",
    "\t\t\tnames += [('var%d(t+%d)' % (j+1, i)) for j in range(n_vars)]\n",
    "\t# put it all together\n",
    "\tagg = pd.concat(cols, axis=1)\n",
    "\tagg.columns = names\n",
    "\t# drop rows with NaN values\n",
    "\tif dropnan:\n",
    "\t\tagg.dropna(inplace=True)\n",
    "\treturn agg\n",
    "\tfor i in range(0, n_out):\n",
    "\t\tcols.append(df.shift(-i))\n",
    "\t\tif i == 0:\n",
    "\t\t\tnames += [('var%d(t)' % (j+1)) for j in range(n_vars)]\n",
    "\t\telse:\n",
    "\t\t\tnames += [('var%d(t+%d)' % (j+1, i)) for j in range(n_vars)]\n",
    "\t# put it all together\n",
    "\tagg = pd.concat(cols, axis=1)\n",
    "\tagg.columns = names\n",
    "\t# drop rows with NaN values\n",
    "\tif dropnan:\n",
    "\t\tagg.dropna(inplace=True)\n",
    "\treturn agg\n",
    "\n",
    "def init_model(train_X):\n",
    "    model = keras.models.Sequential()\n",
    "    model.add(keras.layers.LSTM(50, input_shape=(train_X.shape[1], train_X.shape[2])))\n",
    "    model.add(keras.layers.Dense(1))\n",
    "    model.compile(loss=keras.losses.MeanSquaredLogarithmicError(), optimizer='adam')\n",
    "    return model\n",
    "\n",
    "def train_model(train_X,train_y,test_X,test_y,model):\n",
    "    es = EarlyStopping(monitor='val_loss', mode='min', verbose=1, patience=20)\n",
    "    history = model.fit(train_X, train_y, epochs=250, batch_size=64, validation_data=(test_X, test_y), \n",
    "                        verbose=0,callbacks=[es], shuffle=False)\n",
    "\n",
    "    return history, model\n"
   ]
  },
  {
   "cell_type": "code",
   "execution_count": 4,
   "metadata": {
    "ExecuteTime": {
     "end_time": "2021-02-19T15:20:51.004655Z",
     "start_time": "2021-02-19T15:19:19.764113Z"
    },
    "scrolled": false
   },
   "outputs": [
    {
     "name": "stdout",
     "output_type": "stream",
     "text": [
      "Starting trajectory: T1\n",
      "Starting direction: North\n",
      "Threshold: 1\n",
      "Intersections included: 1\n",
      "Epoch 00049: early stopping\n",
      "Epoch 00058: early stopping\n"
     ]
    },
    {
     "name": "stderr",
     "output_type": "stream",
     "text": [
      "WARNING:absl:Found untraced functions such as lstm_cell_7_layer_call_and_return_conditional_losses, lstm_cell_7_layer_call_fn, lstm_cell_7_layer_call_fn, lstm_cell_7_layer_call_and_return_conditional_losses, lstm_cell_7_layer_call_and_return_conditional_losses while saving (showing 5 of 5). These functions will not be directly callable after loading.\n",
      "WARNING:absl:Found untraced functions such as lstm_cell_7_layer_call_and_return_conditional_losses, lstm_cell_7_layer_call_fn, lstm_cell_7_layer_call_fn, lstm_cell_7_layer_call_and_return_conditional_losses, lstm_cell_7_layer_call_and_return_conditional_losses while saving (showing 5 of 5). These functions will not be directly callable after loading.\n"
     ]
    },
    {
     "name": "stdout",
     "output_type": "stream",
     "text": [
      "INFO:tensorflow:Assets written to: .\\T1\\North\\1\\model\\assets\n"
     ]
    },
    {
     "name": "stderr",
     "output_type": "stream",
     "text": [
      "INFO:tensorflow:Assets written to: .\\T1\\North\\1\\model\\assets\n"
     ]
    },
    {
     "name": "stdout",
     "output_type": "stream",
     "text": [
      "0.3427815773198963\n",
      "Threshold: 0.8\n",
      "same intersections, copy MSE\n"
     ]
    },
    {
     "name": "stderr",
     "output_type": "stream",
     "text": [
      "WARNING:absl:Found untraced functions such as lstm_cell_7_layer_call_and_return_conditional_losses, lstm_cell_7_layer_call_fn, lstm_cell_7_layer_call_fn, lstm_cell_7_layer_call_and_return_conditional_losses, lstm_cell_7_layer_call_and_return_conditional_losses while saving (showing 5 of 5). These functions will not be directly callable after loading.\n",
      "WARNING:absl:Found untraced functions such as lstm_cell_7_layer_call_and_return_conditional_losses, lstm_cell_7_layer_call_fn, lstm_cell_7_layer_call_fn, lstm_cell_7_layer_call_and_return_conditional_losses, lstm_cell_7_layer_call_and_return_conditional_losses while saving (showing 5 of 5). These functions will not be directly callable after loading.\n"
     ]
    },
    {
     "name": "stdout",
     "output_type": "stream",
     "text": [
      "INFO:tensorflow:Assets written to: .\\T1\\North\\0.8\\model\\assets\n"
     ]
    },
    {
     "name": "stderr",
     "output_type": "stream",
     "text": [
      "INFO:tensorflow:Assets written to: .\\T1\\North\\0.8\\model\\assets\n"
     ]
    },
    {
     "name": "stdout",
     "output_type": "stream",
     "text": [
      "0.3427815773198963\n",
      "Threshold: 0.7\n",
      "same intersections, copy MSE\n"
     ]
    },
    {
     "name": "stderr",
     "output_type": "stream",
     "text": [
      "WARNING:absl:Found untraced functions such as lstm_cell_7_layer_call_and_return_conditional_losses, lstm_cell_7_layer_call_fn, lstm_cell_7_layer_call_fn, lstm_cell_7_layer_call_and_return_conditional_losses, lstm_cell_7_layer_call_and_return_conditional_losses while saving (showing 5 of 5). These functions will not be directly callable after loading.\n",
      "WARNING:absl:Found untraced functions such as lstm_cell_7_layer_call_and_return_conditional_losses, lstm_cell_7_layer_call_fn, lstm_cell_7_layer_call_fn, lstm_cell_7_layer_call_and_return_conditional_losses, lstm_cell_7_layer_call_and_return_conditional_losses while saving (showing 5 of 5). These functions will not be directly callable after loading.\n"
     ]
    },
    {
     "name": "stdout",
     "output_type": "stream",
     "text": [
      "INFO:tensorflow:Assets written to: .\\T1\\North\\0.7\\model\\assets\n"
     ]
    },
    {
     "name": "stderr",
     "output_type": "stream",
     "text": [
      "INFO:tensorflow:Assets written to: .\\T1\\North\\0.7\\model\\assets\n"
     ]
    },
    {
     "name": "stdout",
     "output_type": "stream",
     "text": [
      "0.3427815773198963\n",
      "Threshold: 0.6\n",
      "same intersections, copy MSE\n"
     ]
    },
    {
     "name": "stderr",
     "output_type": "stream",
     "text": [
      "WARNING:absl:Found untraced functions such as lstm_cell_7_layer_call_and_return_conditional_losses, lstm_cell_7_layer_call_fn, lstm_cell_7_layer_call_fn, lstm_cell_7_layer_call_and_return_conditional_losses, lstm_cell_7_layer_call_and_return_conditional_losses while saving (showing 5 of 5). These functions will not be directly callable after loading.\n",
      "WARNING:absl:Found untraced functions such as lstm_cell_7_layer_call_and_return_conditional_losses, lstm_cell_7_layer_call_fn, lstm_cell_7_layer_call_fn, lstm_cell_7_layer_call_and_return_conditional_losses, lstm_cell_7_layer_call_and_return_conditional_losses while saving (showing 5 of 5). These functions will not be directly callable after loading.\n"
     ]
    },
    {
     "name": "stdout",
     "output_type": "stream",
     "text": [
      "INFO:tensorflow:Assets written to: .\\T1\\North\\0.6\\model\\assets\n"
     ]
    },
    {
     "name": "stderr",
     "output_type": "stream",
     "text": [
      "INFO:tensorflow:Assets written to: .\\T1\\North\\0.6\\model\\assets\n"
     ]
    },
    {
     "name": "stdout",
     "output_type": "stream",
     "text": [
      "0.3427815773198963\n",
      "Threshold: 0.5\n",
      "Intersections included: 3\n",
      "Epoch 00040: early stopping\n",
      "Epoch 00043: early stopping\n"
     ]
    },
    {
     "name": "stderr",
     "output_type": "stream",
     "text": [
      "WARNING:absl:Found untraced functions such as lstm_cell_9_layer_call_and_return_conditional_losses, lstm_cell_9_layer_call_fn, lstm_cell_9_layer_call_fn, lstm_cell_9_layer_call_and_return_conditional_losses, lstm_cell_9_layer_call_and_return_conditional_losses while saving (showing 5 of 5). These functions will not be directly callable after loading.\n",
      "WARNING:absl:Found untraced functions such as lstm_cell_9_layer_call_and_return_conditional_losses, lstm_cell_9_layer_call_fn, lstm_cell_9_layer_call_fn, lstm_cell_9_layer_call_and_return_conditional_losses, lstm_cell_9_layer_call_and_return_conditional_losses while saving (showing 5 of 5). These functions will not be directly callable after loading.\n"
     ]
    },
    {
     "name": "stdout",
     "output_type": "stream",
     "text": [
      "INFO:tensorflow:Assets written to: .\\T1\\North\\0.5\\model\\assets\n"
     ]
    },
    {
     "name": "stderr",
     "output_type": "stream",
     "text": [
      "INFO:tensorflow:Assets written to: .\\T1\\North\\0.5\\model\\assets\n"
     ]
    },
    {
     "name": "stdout",
     "output_type": "stream",
     "text": [
      "0.29304494474254655\n",
      "Threshold: 0.4\n",
      "Intersections included: 5\n",
      "Epoch 00041: early stopping\n",
      "Epoch 00040: early stopping\n"
     ]
    },
    {
     "name": "stderr",
     "output_type": "stream",
     "text": [
      "WARNING:absl:Found untraced functions such as lstm_cell_11_layer_call_and_return_conditional_losses, lstm_cell_11_layer_call_fn, lstm_cell_11_layer_call_fn, lstm_cell_11_layer_call_and_return_conditional_losses, lstm_cell_11_layer_call_and_return_conditional_losses while saving (showing 5 of 5). These functions will not be directly callable after loading.\n",
      "WARNING:absl:Found untraced functions such as lstm_cell_11_layer_call_and_return_conditional_losses, lstm_cell_11_layer_call_fn, lstm_cell_11_layer_call_fn, lstm_cell_11_layer_call_and_return_conditional_losses, lstm_cell_11_layer_call_and_return_conditional_losses while saving (showing 5 of 5). These functions will not be directly callable after loading.\n"
     ]
    },
    {
     "name": "stdout",
     "output_type": "stream",
     "text": [
      "INFO:tensorflow:Assets written to: .\\T1\\North\\0.4\\model\\assets\n"
     ]
    },
    {
     "name": "stderr",
     "output_type": "stream",
     "text": [
      "INFO:tensorflow:Assets written to: .\\T1\\North\\0.4\\model\\assets\n"
     ]
    },
    {
     "name": "stdout",
     "output_type": "stream",
     "text": [
      "0.18884876456930494\n",
      "Threshold: 0.3\n",
      "same intersections, copy MSE\n"
     ]
    },
    {
     "name": "stderr",
     "output_type": "stream",
     "text": [
      "WARNING:absl:Found untraced functions such as lstm_cell_11_layer_call_and_return_conditional_losses, lstm_cell_11_layer_call_fn, lstm_cell_11_layer_call_fn, lstm_cell_11_layer_call_and_return_conditional_losses, lstm_cell_11_layer_call_and_return_conditional_losses while saving (showing 5 of 5). These functions will not be directly callable after loading.\n",
      "WARNING:absl:Found untraced functions such as lstm_cell_11_layer_call_and_return_conditional_losses, lstm_cell_11_layer_call_fn, lstm_cell_11_layer_call_fn, lstm_cell_11_layer_call_and_return_conditional_losses, lstm_cell_11_layer_call_and_return_conditional_losses while saving (showing 5 of 5). These functions will not be directly callable after loading.\n"
     ]
    },
    {
     "name": "stdout",
     "output_type": "stream",
     "text": [
      "INFO:tensorflow:Assets written to: .\\T1\\North\\0.3\\model\\assets\n"
     ]
    },
    {
     "name": "stderr",
     "output_type": "stream",
     "text": [
      "INFO:tensorflow:Assets written to: .\\T1\\North\\0.3\\model\\assets\n"
     ]
    },
    {
     "name": "stdout",
     "output_type": "stream",
     "text": [
      "0.18884876456930494\n",
      "Threshold: 0.2\n",
      "Intersections included: 6\n",
      "Epoch 00037: early stopping\n",
      "Epoch 00046: early stopping\n"
     ]
    },
    {
     "name": "stderr",
     "output_type": "stream",
     "text": [
      "WARNING:absl:Found untraced functions such as lstm_cell_13_layer_call_and_return_conditional_losses, lstm_cell_13_layer_call_fn, lstm_cell_13_layer_call_fn, lstm_cell_13_layer_call_and_return_conditional_losses, lstm_cell_13_layer_call_and_return_conditional_losses while saving (showing 5 of 5). These functions will not be directly callable after loading.\n",
      "WARNING:absl:Found untraced functions such as lstm_cell_13_layer_call_and_return_conditional_losses, lstm_cell_13_layer_call_fn, lstm_cell_13_layer_call_fn, lstm_cell_13_layer_call_and_return_conditional_losses, lstm_cell_13_layer_call_and_return_conditional_losses while saving (showing 5 of 5). These functions will not be directly callable after loading.\n"
     ]
    },
    {
     "name": "stdout",
     "output_type": "stream",
     "text": [
      "INFO:tensorflow:Assets written to: .\\T1\\North\\0.2\\model\\assets\n"
     ]
    },
    {
     "name": "stderr",
     "output_type": "stream",
     "text": [
      "INFO:tensorflow:Assets written to: .\\T1\\North\\0.2\\model\\assets\n"
     ]
    },
    {
     "name": "stdout",
     "output_type": "stream",
     "text": [
      "0.2691478619198405\n",
      "Threshold: 0\n",
      "Intersections included: 9\n",
      "Epoch 00030: early stopping\n",
      "Epoch 00025: early stopping\n"
     ]
    },
    {
     "name": "stderr",
     "output_type": "stream",
     "text": [
      "WARNING:absl:Found untraced functions such as lstm_cell_15_layer_call_and_return_conditional_losses, lstm_cell_15_layer_call_fn, lstm_cell_15_layer_call_fn, lstm_cell_15_layer_call_and_return_conditional_losses, lstm_cell_15_layer_call_and_return_conditional_losses while saving (showing 5 of 5). These functions will not be directly callable after loading.\n",
      "WARNING:absl:Found untraced functions such as lstm_cell_15_layer_call_and_return_conditional_losses, lstm_cell_15_layer_call_fn, lstm_cell_15_layer_call_fn, lstm_cell_15_layer_call_and_return_conditional_losses, lstm_cell_15_layer_call_and_return_conditional_losses while saving (showing 5 of 5). These functions will not be directly callable after loading.\n"
     ]
    },
    {
     "name": "stdout",
     "output_type": "stream",
     "text": [
      "INFO:tensorflow:Assets written to: .\\T1\\North\\0\\model\\assets\n"
     ]
    },
    {
     "name": "stderr",
     "output_type": "stream",
     "text": [
      "INFO:tensorflow:Assets written to: .\\T1\\North\\0\\model\\assets\n"
     ]
    },
    {
     "name": "stdout",
     "output_type": "stream",
     "text": [
      "0.23256425394573627\n",
      "Starting direction: South\n",
      "Threshold: 1\n",
      "Intersections included: 1\n",
      "Epoch 00027: early stopping\n",
      "Epoch 00030: early stopping\n"
     ]
    },
    {
     "name": "stderr",
     "output_type": "stream",
     "text": [
      "WARNING:absl:Found untraced functions such as lstm_cell_17_layer_call_and_return_conditional_losses, lstm_cell_17_layer_call_fn, lstm_cell_17_layer_call_fn, lstm_cell_17_layer_call_and_return_conditional_losses, lstm_cell_17_layer_call_and_return_conditional_losses while saving (showing 5 of 5). These functions will not be directly callable after loading.\n",
      "WARNING:absl:Found untraced functions such as lstm_cell_17_layer_call_and_return_conditional_losses, lstm_cell_17_layer_call_fn, lstm_cell_17_layer_call_fn, lstm_cell_17_layer_call_and_return_conditional_losses, lstm_cell_17_layer_call_and_return_conditional_losses while saving (showing 5 of 5). These functions will not be directly callable after loading.\n"
     ]
    },
    {
     "name": "stdout",
     "output_type": "stream",
     "text": [
      "INFO:tensorflow:Assets written to: .\\T1\\South\\1\\model\\assets\n"
     ]
    },
    {
     "name": "stderr",
     "output_type": "stream",
     "text": [
      "INFO:tensorflow:Assets written to: .\\T1\\South\\1\\model\\assets\n"
     ]
    },
    {
     "name": "stdout",
     "output_type": "stream",
     "text": [
      "0.3992438442723274\n",
      "Threshold: 0.8\n",
      "same intersections, copy MSE\n"
     ]
    },
    {
     "name": "stderr",
     "output_type": "stream",
     "text": [
      "WARNING:absl:Found untraced functions such as lstm_cell_17_layer_call_and_return_conditional_losses, lstm_cell_17_layer_call_fn, lstm_cell_17_layer_call_fn, lstm_cell_17_layer_call_and_return_conditional_losses, lstm_cell_17_layer_call_and_return_conditional_losses while saving (showing 5 of 5). These functions will not be directly callable after loading.\n",
      "WARNING:absl:Found untraced functions such as lstm_cell_17_layer_call_and_return_conditional_losses, lstm_cell_17_layer_call_fn, lstm_cell_17_layer_call_fn, lstm_cell_17_layer_call_and_return_conditional_losses, lstm_cell_17_layer_call_and_return_conditional_losses while saving (showing 5 of 5). These functions will not be directly callable after loading.\n"
     ]
    },
    {
     "name": "stdout",
     "output_type": "stream",
     "text": [
      "INFO:tensorflow:Assets written to: .\\T1\\South\\0.8\\model\\assets\n"
     ]
    },
    {
     "name": "stderr",
     "output_type": "stream",
     "text": [
      "INFO:tensorflow:Assets written to: .\\T1\\South\\0.8\\model\\assets\n"
     ]
    },
    {
     "name": "stdout",
     "output_type": "stream",
     "text": [
      "0.3992438442723274\n",
      "Threshold: 0.7\n",
      "same intersections, copy MSE\n"
     ]
    },
    {
     "name": "stderr",
     "output_type": "stream",
     "text": [
      "WARNING:absl:Found untraced functions such as lstm_cell_17_layer_call_and_return_conditional_losses, lstm_cell_17_layer_call_fn, lstm_cell_17_layer_call_fn, lstm_cell_17_layer_call_and_return_conditional_losses, lstm_cell_17_layer_call_and_return_conditional_losses while saving (showing 5 of 5). These functions will not be directly callable after loading.\n",
      "WARNING:absl:Found untraced functions such as lstm_cell_17_layer_call_and_return_conditional_losses, lstm_cell_17_layer_call_fn, lstm_cell_17_layer_call_fn, lstm_cell_17_layer_call_and_return_conditional_losses, lstm_cell_17_layer_call_and_return_conditional_losses while saving (showing 5 of 5). These functions will not be directly callable after loading.\n"
     ]
    },
    {
     "name": "stdout",
     "output_type": "stream",
     "text": [
      "INFO:tensorflow:Assets written to: .\\T1\\South\\0.7\\model\\assets\n"
     ]
    },
    {
     "name": "stderr",
     "output_type": "stream",
     "text": [
      "INFO:tensorflow:Assets written to: .\\T1\\South\\0.7\\model\\assets\n"
     ]
    },
    {
     "name": "stdout",
     "output_type": "stream",
     "text": [
      "0.3992438442723274\n",
      "Threshold: 0.6\n",
      "same intersections, copy MSE\n"
     ]
    },
    {
     "name": "stderr",
     "output_type": "stream",
     "text": [
      "WARNING:absl:Found untraced functions such as lstm_cell_17_layer_call_and_return_conditional_losses, lstm_cell_17_layer_call_fn, lstm_cell_17_layer_call_fn, lstm_cell_17_layer_call_and_return_conditional_losses, lstm_cell_17_layer_call_and_return_conditional_losses while saving (showing 5 of 5). These functions will not be directly callable after loading.\n",
      "WARNING:absl:Found untraced functions such as lstm_cell_17_layer_call_and_return_conditional_losses, lstm_cell_17_layer_call_fn, lstm_cell_17_layer_call_fn, lstm_cell_17_layer_call_and_return_conditional_losses, lstm_cell_17_layer_call_and_return_conditional_losses while saving (showing 5 of 5). These functions will not be directly callable after loading.\n"
     ]
    },
    {
     "name": "stdout",
     "output_type": "stream",
     "text": [
      "INFO:tensorflow:Assets written to: .\\T1\\South\\0.6\\model\\assets\n"
     ]
    },
    {
     "name": "stderr",
     "output_type": "stream",
     "text": [
      "INFO:tensorflow:Assets written to: .\\T1\\South\\0.6\\model\\assets\n"
     ]
    },
    {
     "name": "stdout",
     "output_type": "stream",
     "text": [
      "0.3992438442723274\n",
      "Threshold: 0.5\n",
      "same intersections, copy MSE\n"
     ]
    },
    {
     "name": "stderr",
     "output_type": "stream",
     "text": [
      "WARNING:absl:Found untraced functions such as lstm_cell_17_layer_call_and_return_conditional_losses, lstm_cell_17_layer_call_fn, lstm_cell_17_layer_call_fn, lstm_cell_17_layer_call_and_return_conditional_losses, lstm_cell_17_layer_call_and_return_conditional_losses while saving (showing 5 of 5). These functions will not be directly callable after loading.\n",
      "WARNING:absl:Found untraced functions such as lstm_cell_17_layer_call_and_return_conditional_losses, lstm_cell_17_layer_call_fn, lstm_cell_17_layer_call_fn, lstm_cell_17_layer_call_and_return_conditional_losses, lstm_cell_17_layer_call_and_return_conditional_losses while saving (showing 5 of 5). These functions will not be directly callable after loading.\n"
     ]
    },
    {
     "name": "stdout",
     "output_type": "stream",
     "text": [
      "INFO:tensorflow:Assets written to: .\\T1\\South\\0.5\\model\\assets\n"
     ]
    },
    {
     "name": "stderr",
     "output_type": "stream",
     "text": [
      "INFO:tensorflow:Assets written to: .\\T1\\South\\0.5\\model\\assets\n"
     ]
    },
    {
     "name": "stdout",
     "output_type": "stream",
     "text": [
      "0.3992438442723274\n",
      "Threshold: 0.4\n",
      "Intersections included: 3\n",
      "Epoch 00038: early stopping\n",
      "Epoch 00049: early stopping\n"
     ]
    },
    {
     "name": "stderr",
     "output_type": "stream",
     "text": [
      "WARNING:absl:Found untraced functions such as lstm_cell_19_layer_call_and_return_conditional_losses, lstm_cell_19_layer_call_fn, lstm_cell_19_layer_call_fn, lstm_cell_19_layer_call_and_return_conditional_losses, lstm_cell_19_layer_call_and_return_conditional_losses while saving (showing 5 of 5). These functions will not be directly callable after loading.\n",
      "WARNING:absl:Found untraced functions such as lstm_cell_19_layer_call_and_return_conditional_losses, lstm_cell_19_layer_call_fn, lstm_cell_19_layer_call_fn, lstm_cell_19_layer_call_and_return_conditional_losses, lstm_cell_19_layer_call_and_return_conditional_losses while saving (showing 5 of 5). These functions will not be directly callable after loading.\n"
     ]
    },
    {
     "name": "stdout",
     "output_type": "stream",
     "text": [
      "INFO:tensorflow:Assets written to: .\\T1\\South\\0.4\\model\\assets\n"
     ]
    },
    {
     "name": "stderr",
     "output_type": "stream",
     "text": [
      "INFO:tensorflow:Assets written to: .\\T1\\South\\0.4\\model\\assets\n"
     ]
    },
    {
     "name": "stdout",
     "output_type": "stream",
     "text": [
      "0.17589870417443107\n",
      "Threshold: 0.3\n",
      "Intersections included: 5\n",
      "Epoch 00022: early stopping\n",
      "Epoch 00022: early stopping\n"
     ]
    },
    {
     "name": "stderr",
     "output_type": "stream",
     "text": [
      "WARNING:absl:Found untraced functions such as lstm_cell_21_layer_call_and_return_conditional_losses, lstm_cell_21_layer_call_fn, lstm_cell_21_layer_call_fn, lstm_cell_21_layer_call_and_return_conditional_losses, lstm_cell_21_layer_call_and_return_conditional_losses while saving (showing 5 of 5). These functions will not be directly callable after loading.\n",
      "WARNING:absl:Found untraced functions such as lstm_cell_21_layer_call_and_return_conditional_losses, lstm_cell_21_layer_call_fn, lstm_cell_21_layer_call_fn, lstm_cell_21_layer_call_and_return_conditional_losses, lstm_cell_21_layer_call_and_return_conditional_losses while saving (showing 5 of 5). These functions will not be directly callable after loading.\n"
     ]
    },
    {
     "name": "stdout",
     "output_type": "stream",
     "text": [
      "INFO:tensorflow:Assets written to: .\\T1\\South\\0.3\\model\\assets\n"
     ]
    },
    {
     "name": "stderr",
     "output_type": "stream",
     "text": [
      "INFO:tensorflow:Assets written to: .\\T1\\South\\0.3\\model\\assets\n"
     ]
    },
    {
     "name": "stdout",
     "output_type": "stream",
     "text": [
      "0.2948805556462067\n",
      "Threshold: 0.2\n",
      "same intersections, copy MSE\n"
     ]
    },
    {
     "name": "stderr",
     "output_type": "stream",
     "text": [
      "WARNING:absl:Found untraced functions such as lstm_cell_21_layer_call_and_return_conditional_losses, lstm_cell_21_layer_call_fn, lstm_cell_21_layer_call_fn, lstm_cell_21_layer_call_and_return_conditional_losses, lstm_cell_21_layer_call_and_return_conditional_losses while saving (showing 5 of 5). These functions will not be directly callable after loading.\n",
      "WARNING:absl:Found untraced functions such as lstm_cell_21_layer_call_and_return_conditional_losses, lstm_cell_21_layer_call_fn, lstm_cell_21_layer_call_fn, lstm_cell_21_layer_call_and_return_conditional_losses, lstm_cell_21_layer_call_and_return_conditional_losses while saving (showing 5 of 5). These functions will not be directly callable after loading.\n"
     ]
    },
    {
     "name": "stdout",
     "output_type": "stream",
     "text": [
      "INFO:tensorflow:Assets written to: .\\T1\\South\\0.2\\model\\assets\n"
     ]
    },
    {
     "name": "stderr",
     "output_type": "stream",
     "text": [
      "INFO:tensorflow:Assets written to: .\\T1\\South\\0.2\\model\\assets\n"
     ]
    },
    {
     "name": "stdout",
     "output_type": "stream",
     "text": [
      "0.2948805556462067\n",
      "Threshold: 0\n",
      "same intersections, copy MSE\n"
     ]
    },
    {
     "name": "stderr",
     "output_type": "stream",
     "text": [
      "WARNING:absl:Found untraced functions such as lstm_cell_21_layer_call_and_return_conditional_losses, lstm_cell_21_layer_call_fn, lstm_cell_21_layer_call_fn, lstm_cell_21_layer_call_and_return_conditional_losses, lstm_cell_21_layer_call_and_return_conditional_losses while saving (showing 5 of 5). These functions will not be directly callable after loading.\n",
      "WARNING:absl:Found untraced functions such as lstm_cell_21_layer_call_and_return_conditional_losses, lstm_cell_21_layer_call_fn, lstm_cell_21_layer_call_fn, lstm_cell_21_layer_call_and_return_conditional_losses, lstm_cell_21_layer_call_and_return_conditional_losses while saving (showing 5 of 5). These functions will not be directly callable after loading.\n"
     ]
    },
    {
     "name": "stdout",
     "output_type": "stream",
     "text": [
      "INFO:tensorflow:Assets written to: .\\T1\\South\\0\\model\\assets\n"
     ]
    },
    {
     "name": "stderr",
     "output_type": "stream",
     "text": [
      "INFO:tensorflow:Assets written to: .\\T1\\South\\0\\model\\assets\n"
     ]
    },
    {
     "name": "stdout",
     "output_type": "stream",
     "text": [
      "0.2948805556462067\n",
      "Starting trajectory: T2\n",
      "Starting direction: South\n",
      "Threshold: 1\n",
      "Intersections included: 1\n",
      "Epoch 00033: early stopping\n",
      "Epoch 00064: early stopping\n"
     ]
    },
    {
     "name": "stderr",
     "output_type": "stream",
     "text": [
      "WARNING:absl:Found untraced functions such as lstm_cell_23_layer_call_and_return_conditional_losses, lstm_cell_23_layer_call_fn, lstm_cell_23_layer_call_fn, lstm_cell_23_layer_call_and_return_conditional_losses, lstm_cell_23_layer_call_and_return_conditional_losses while saving (showing 5 of 5). These functions will not be directly callable after loading.\n",
      "WARNING:absl:Found untraced functions such as lstm_cell_23_layer_call_and_return_conditional_losses, lstm_cell_23_layer_call_fn, lstm_cell_23_layer_call_fn, lstm_cell_23_layer_call_and_return_conditional_losses, lstm_cell_23_layer_call_and_return_conditional_losses while saving (showing 5 of 5). These functions will not be directly callable after loading.\n"
     ]
    },
    {
     "name": "stdout",
     "output_type": "stream",
     "text": [
      "INFO:tensorflow:Assets written to: .\\T2\\South\\1\\model\\assets\n"
     ]
    },
    {
     "name": "stderr",
     "output_type": "stream",
     "text": [
      "INFO:tensorflow:Assets written to: .\\T2\\South\\1\\model\\assets\n"
     ]
    },
    {
     "name": "stdout",
     "output_type": "stream",
     "text": [
      "0.14861446924184235\n",
      "Threshold: 0.8\n",
      "same intersections, copy MSE\n"
     ]
    },
    {
     "name": "stderr",
     "output_type": "stream",
     "text": [
      "WARNING:absl:Found untraced functions such as lstm_cell_23_layer_call_and_return_conditional_losses, lstm_cell_23_layer_call_fn, lstm_cell_23_layer_call_fn, lstm_cell_23_layer_call_and_return_conditional_losses, lstm_cell_23_layer_call_and_return_conditional_losses while saving (showing 5 of 5). These functions will not be directly callable after loading.\n",
      "WARNING:absl:Found untraced functions such as lstm_cell_23_layer_call_and_return_conditional_losses, lstm_cell_23_layer_call_fn, lstm_cell_23_layer_call_fn, lstm_cell_23_layer_call_and_return_conditional_losses, lstm_cell_23_layer_call_and_return_conditional_losses while saving (showing 5 of 5). These functions will not be directly callable after loading.\n"
     ]
    },
    {
     "name": "stdout",
     "output_type": "stream",
     "text": [
      "INFO:tensorflow:Assets written to: .\\T2\\South\\0.8\\model\\assets\n"
     ]
    },
    {
     "name": "stderr",
     "output_type": "stream",
     "text": [
      "INFO:tensorflow:Assets written to: .\\T2\\South\\0.8\\model\\assets\n"
     ]
    },
    {
     "name": "stdout",
     "output_type": "stream",
     "text": [
      "0.14861446924184235\n",
      "Threshold: 0.7\n",
      "same intersections, copy MSE\n"
     ]
    },
    {
     "name": "stderr",
     "output_type": "stream",
     "text": [
      "WARNING:absl:Found untraced functions such as lstm_cell_23_layer_call_and_return_conditional_losses, lstm_cell_23_layer_call_fn, lstm_cell_23_layer_call_fn, lstm_cell_23_layer_call_and_return_conditional_losses, lstm_cell_23_layer_call_and_return_conditional_losses while saving (showing 5 of 5). These functions will not be directly callable after loading.\n",
      "WARNING:absl:Found untraced functions such as lstm_cell_23_layer_call_and_return_conditional_losses, lstm_cell_23_layer_call_fn, lstm_cell_23_layer_call_fn, lstm_cell_23_layer_call_and_return_conditional_losses, lstm_cell_23_layer_call_and_return_conditional_losses while saving (showing 5 of 5). These functions will not be directly callable after loading.\n"
     ]
    },
    {
     "name": "stdout",
     "output_type": "stream",
     "text": [
      "INFO:tensorflow:Assets written to: .\\T2\\South\\0.7\\model\\assets\n"
     ]
    },
    {
     "name": "stderr",
     "output_type": "stream",
     "text": [
      "INFO:tensorflow:Assets written to: .\\T2\\South\\0.7\\model\\assets\n"
     ]
    },
    {
     "name": "stdout",
     "output_type": "stream",
     "text": [
      "0.14861446924184235\n",
      "Threshold: 0.6\n",
      "same intersections, copy MSE\n"
     ]
    },
    {
     "name": "stderr",
     "output_type": "stream",
     "text": [
      "WARNING:absl:Found untraced functions such as lstm_cell_23_layer_call_and_return_conditional_losses, lstm_cell_23_layer_call_fn, lstm_cell_23_layer_call_fn, lstm_cell_23_layer_call_and_return_conditional_losses, lstm_cell_23_layer_call_and_return_conditional_losses while saving (showing 5 of 5). These functions will not be directly callable after loading.\n",
      "WARNING:absl:Found untraced functions such as lstm_cell_23_layer_call_and_return_conditional_losses, lstm_cell_23_layer_call_fn, lstm_cell_23_layer_call_fn, lstm_cell_23_layer_call_and_return_conditional_losses, lstm_cell_23_layer_call_and_return_conditional_losses while saving (showing 5 of 5). These functions will not be directly callable after loading.\n"
     ]
    },
    {
     "name": "stdout",
     "output_type": "stream",
     "text": [
      "INFO:tensorflow:Assets written to: .\\T2\\South\\0.6\\model\\assets\n"
     ]
    },
    {
     "name": "stderr",
     "output_type": "stream",
     "text": [
      "INFO:tensorflow:Assets written to: .\\T2\\South\\0.6\\model\\assets\n"
     ]
    },
    {
     "name": "stdout",
     "output_type": "stream",
     "text": [
      "0.14861446924184235\n",
      "Threshold: 0.5\n",
      "same intersections, copy MSE\n"
     ]
    },
    {
     "name": "stderr",
     "output_type": "stream",
     "text": [
      "WARNING:absl:Found untraced functions such as lstm_cell_23_layer_call_and_return_conditional_losses, lstm_cell_23_layer_call_fn, lstm_cell_23_layer_call_fn, lstm_cell_23_layer_call_and_return_conditional_losses, lstm_cell_23_layer_call_and_return_conditional_losses while saving (showing 5 of 5). These functions will not be directly callable after loading.\n",
      "WARNING:absl:Found untraced functions such as lstm_cell_23_layer_call_and_return_conditional_losses, lstm_cell_23_layer_call_fn, lstm_cell_23_layer_call_fn, lstm_cell_23_layer_call_and_return_conditional_losses, lstm_cell_23_layer_call_and_return_conditional_losses while saving (showing 5 of 5). These functions will not be directly callable after loading.\n"
     ]
    },
    {
     "name": "stdout",
     "output_type": "stream",
     "text": [
      "INFO:tensorflow:Assets written to: .\\T2\\South\\0.5\\model\\assets\n"
     ]
    },
    {
     "name": "stderr",
     "output_type": "stream",
     "text": [
      "INFO:tensorflow:Assets written to: .\\T2\\South\\0.5\\model\\assets\n"
     ]
    },
    {
     "name": "stdout",
     "output_type": "stream",
     "text": [
      "0.14861446924184235\n",
      "Threshold: 0.4\n",
      "Intersections included: 1\n",
      "Epoch 00031: early stopping\n",
      "Epoch 00031: early stopping\n"
     ]
    },
    {
     "name": "stderr",
     "output_type": "stream",
     "text": [
      "WARNING:absl:Found untraced functions such as lstm_cell_25_layer_call_and_return_conditional_losses, lstm_cell_25_layer_call_fn, lstm_cell_25_layer_call_fn, lstm_cell_25_layer_call_and_return_conditional_losses, lstm_cell_25_layer_call_and_return_conditional_losses while saving (showing 5 of 5). These functions will not be directly callable after loading.\n",
      "WARNING:absl:Found untraced functions such as lstm_cell_25_layer_call_and_return_conditional_losses, lstm_cell_25_layer_call_fn, lstm_cell_25_layer_call_fn, lstm_cell_25_layer_call_and_return_conditional_losses, lstm_cell_25_layer_call_and_return_conditional_losses while saving (showing 5 of 5). These functions will not be directly callable after loading.\n"
     ]
    },
    {
     "name": "stdout",
     "output_type": "stream",
     "text": [
      "INFO:tensorflow:Assets written to: .\\T2\\South\\0.4\\model\\assets\n"
     ]
    },
    {
     "name": "stderr",
     "output_type": "stream",
     "text": [
      "INFO:tensorflow:Assets written to: .\\T2\\South\\0.4\\model\\assets\n"
     ]
    },
    {
     "name": "stdout",
     "output_type": "stream",
     "text": [
      "0.31461960755556845\n",
      "Threshold: 0.3\n",
      "same intersections, copy MSE\n"
     ]
    },
    {
     "name": "stderr",
     "output_type": "stream",
     "text": [
      "WARNING:absl:Found untraced functions such as lstm_cell_25_layer_call_and_return_conditional_losses, lstm_cell_25_layer_call_fn, lstm_cell_25_layer_call_fn, lstm_cell_25_layer_call_and_return_conditional_losses, lstm_cell_25_layer_call_and_return_conditional_losses while saving (showing 5 of 5). These functions will not be directly callable after loading.\n",
      "WARNING:absl:Found untraced functions such as lstm_cell_25_layer_call_and_return_conditional_losses, lstm_cell_25_layer_call_fn, lstm_cell_25_layer_call_fn, lstm_cell_25_layer_call_and_return_conditional_losses, lstm_cell_25_layer_call_and_return_conditional_losses while saving (showing 5 of 5). These functions will not be directly callable after loading.\n"
     ]
    },
    {
     "name": "stdout",
     "output_type": "stream",
     "text": [
      "INFO:tensorflow:Assets written to: .\\T2\\South\\0.3\\model\\assets\n"
     ]
    },
    {
     "name": "stderr",
     "output_type": "stream",
     "text": [
      "INFO:tensorflow:Assets written to: .\\T2\\South\\0.3\\model\\assets\n"
     ]
    },
    {
     "name": "stdout",
     "output_type": "stream",
     "text": [
      "0.31461960755556845\n",
      "Threshold: 0.2\n",
      "same intersections, copy MSE\n"
     ]
    },
    {
     "name": "stderr",
     "output_type": "stream",
     "text": [
      "WARNING:absl:Found untraced functions such as lstm_cell_25_layer_call_and_return_conditional_losses, lstm_cell_25_layer_call_fn, lstm_cell_25_layer_call_fn, lstm_cell_25_layer_call_and_return_conditional_losses, lstm_cell_25_layer_call_and_return_conditional_losses while saving (showing 5 of 5). These functions will not be directly callable after loading.\n",
      "WARNING:absl:Found untraced functions such as lstm_cell_25_layer_call_and_return_conditional_losses, lstm_cell_25_layer_call_fn, lstm_cell_25_layer_call_fn, lstm_cell_25_layer_call_and_return_conditional_losses, lstm_cell_25_layer_call_and_return_conditional_losses while saving (showing 5 of 5). These functions will not be directly callable after loading.\n"
     ]
    },
    {
     "name": "stdout",
     "output_type": "stream",
     "text": [
      "INFO:tensorflow:Assets written to: .\\T2\\South\\0.2\\model\\assets\n"
     ]
    },
    {
     "name": "stderr",
     "output_type": "stream",
     "text": [
      "INFO:tensorflow:Assets written to: .\\T2\\South\\0.2\\model\\assets\n"
     ]
    },
    {
     "name": "stdout",
     "output_type": "stream",
     "text": [
      "0.31461960755556845\n",
      "Threshold: 0\n",
      "Intersections included: 15\n",
      "Epoch 00029: early stopping\n",
      "Epoch 00030: early stopping\n"
     ]
    },
    {
     "name": "stderr",
     "output_type": "stream",
     "text": [
      "WARNING:absl:Found untraced functions such as lstm_cell_27_layer_call_and_return_conditional_losses, lstm_cell_27_layer_call_fn, lstm_cell_27_layer_call_fn, lstm_cell_27_layer_call_and_return_conditional_losses, lstm_cell_27_layer_call_and_return_conditional_losses while saving (showing 5 of 5). These functions will not be directly callable after loading.\n",
      "WARNING:absl:Found untraced functions such as lstm_cell_27_layer_call_and_return_conditional_losses, lstm_cell_27_layer_call_fn, lstm_cell_27_layer_call_fn, lstm_cell_27_layer_call_and_return_conditional_losses, lstm_cell_27_layer_call_and_return_conditional_losses while saving (showing 5 of 5). These functions will not be directly callable after loading.\n"
     ]
    },
    {
     "name": "stdout",
     "output_type": "stream",
     "text": [
      "INFO:tensorflow:Assets written to: .\\T2\\South\\0\\model\\assets\n"
     ]
    },
    {
     "name": "stderr",
     "output_type": "stream",
     "text": [
      "INFO:tensorflow:Assets written to: .\\T2\\South\\0\\model\\assets\n"
     ]
    },
    {
     "name": "stdout",
     "output_type": "stream",
     "text": [
      "0.25141314809530896\n",
      "Starting direction: North\n",
      "Threshold: 1\n",
      "Intersections included: 1\n",
      "Epoch 00069: early stopping\n",
      "Epoch 00098: early stopping\n"
     ]
    },
    {
     "name": "stderr",
     "output_type": "stream",
     "text": [
      "WARNING:absl:Found untraced functions such as lstm_cell_29_layer_call_and_return_conditional_losses, lstm_cell_29_layer_call_fn, lstm_cell_29_layer_call_fn, lstm_cell_29_layer_call_and_return_conditional_losses, lstm_cell_29_layer_call_and_return_conditional_losses while saving (showing 5 of 5). These functions will not be directly callable after loading.\n",
      "WARNING:absl:Found untraced functions such as lstm_cell_29_layer_call_and_return_conditional_losses, lstm_cell_29_layer_call_fn, lstm_cell_29_layer_call_fn, lstm_cell_29_layer_call_and_return_conditional_losses, lstm_cell_29_layer_call_and_return_conditional_losses while saving (showing 5 of 5). These functions will not be directly callable after loading.\n"
     ]
    },
    {
     "name": "stdout",
     "output_type": "stream",
     "text": [
      "INFO:tensorflow:Assets written to: .\\T2\\North\\1\\model\\assets\n"
     ]
    },
    {
     "name": "stderr",
     "output_type": "stream",
     "text": [
      "INFO:tensorflow:Assets written to: .\\T2\\North\\1\\model\\assets\n"
     ]
    },
    {
     "name": "stdout",
     "output_type": "stream",
     "text": [
      "0.11959314462139356\n",
      "Threshold: 0.8\n",
      "same intersections, copy MSE\n"
     ]
    },
    {
     "name": "stderr",
     "output_type": "stream",
     "text": [
      "WARNING:absl:Found untraced functions such as lstm_cell_29_layer_call_and_return_conditional_losses, lstm_cell_29_layer_call_fn, lstm_cell_29_layer_call_fn, lstm_cell_29_layer_call_and_return_conditional_losses, lstm_cell_29_layer_call_and_return_conditional_losses while saving (showing 5 of 5). These functions will not be directly callable after loading.\n",
      "WARNING:absl:Found untraced functions such as lstm_cell_29_layer_call_and_return_conditional_losses, lstm_cell_29_layer_call_fn, lstm_cell_29_layer_call_fn, lstm_cell_29_layer_call_and_return_conditional_losses, lstm_cell_29_layer_call_and_return_conditional_losses while saving (showing 5 of 5). These functions will not be directly callable after loading.\n"
     ]
    },
    {
     "name": "stdout",
     "output_type": "stream",
     "text": [
      "INFO:tensorflow:Assets written to: .\\T2\\North\\0.8\\model\\assets\n"
     ]
    },
    {
     "name": "stderr",
     "output_type": "stream",
     "text": [
      "INFO:tensorflow:Assets written to: .\\T2\\North\\0.8\\model\\assets\n"
     ]
    },
    {
     "name": "stdout",
     "output_type": "stream",
     "text": [
      "0.11959314462139356\n",
      "Threshold: 0.7\n",
      "same intersections, copy MSE\n"
     ]
    },
    {
     "name": "stderr",
     "output_type": "stream",
     "text": [
      "WARNING:absl:Found untraced functions such as lstm_cell_29_layer_call_and_return_conditional_losses, lstm_cell_29_layer_call_fn, lstm_cell_29_layer_call_fn, lstm_cell_29_layer_call_and_return_conditional_losses, lstm_cell_29_layer_call_and_return_conditional_losses while saving (showing 5 of 5). These functions will not be directly callable after loading.\n",
      "WARNING:absl:Found untraced functions such as lstm_cell_29_layer_call_and_return_conditional_losses, lstm_cell_29_layer_call_fn, lstm_cell_29_layer_call_fn, lstm_cell_29_layer_call_and_return_conditional_losses, lstm_cell_29_layer_call_and_return_conditional_losses while saving (showing 5 of 5). These functions will not be directly callable after loading.\n"
     ]
    },
    {
     "name": "stdout",
     "output_type": "stream",
     "text": [
      "INFO:tensorflow:Assets written to: .\\T2\\North\\0.7\\model\\assets\n"
     ]
    },
    {
     "name": "stderr",
     "output_type": "stream",
     "text": [
      "INFO:tensorflow:Assets written to: .\\T2\\North\\0.7\\model\\assets\n"
     ]
    },
    {
     "name": "stdout",
     "output_type": "stream",
     "text": [
      "0.11959314462139356\n",
      "Threshold: 0.6\n",
      "same intersections, copy MSE\n"
     ]
    },
    {
     "name": "stderr",
     "output_type": "stream",
     "text": [
      "WARNING:absl:Found untraced functions such as lstm_cell_29_layer_call_and_return_conditional_losses, lstm_cell_29_layer_call_fn, lstm_cell_29_layer_call_fn, lstm_cell_29_layer_call_and_return_conditional_losses, lstm_cell_29_layer_call_and_return_conditional_losses while saving (showing 5 of 5). These functions will not be directly callable after loading.\n",
      "WARNING:absl:Found untraced functions such as lstm_cell_29_layer_call_and_return_conditional_losses, lstm_cell_29_layer_call_fn, lstm_cell_29_layer_call_fn, lstm_cell_29_layer_call_and_return_conditional_losses, lstm_cell_29_layer_call_and_return_conditional_losses while saving (showing 5 of 5). These functions will not be directly callable after loading.\n"
     ]
    },
    {
     "name": "stdout",
     "output_type": "stream",
     "text": [
      "INFO:tensorflow:Assets written to: .\\T2\\North\\0.6\\model\\assets\n"
     ]
    },
    {
     "name": "stderr",
     "output_type": "stream",
     "text": [
      "INFO:tensorflow:Assets written to: .\\T2\\North\\0.6\\model\\assets\n"
     ]
    },
    {
     "name": "stdout",
     "output_type": "stream",
     "text": [
      "0.11959314462139356\n",
      "Threshold: 0.5\n",
      "Intersections included: 2\n",
      "Epoch 00078: early stopping\n",
      "Epoch 00050: early stopping\n"
     ]
    },
    {
     "name": "stderr",
     "output_type": "stream",
     "text": [
      "WARNING:absl:Found untraced functions such as lstm_cell_31_layer_call_and_return_conditional_losses, lstm_cell_31_layer_call_fn, lstm_cell_31_layer_call_fn, lstm_cell_31_layer_call_and_return_conditional_losses, lstm_cell_31_layer_call_and_return_conditional_losses while saving (showing 5 of 5). These functions will not be directly callable after loading.\n",
      "WARNING:absl:Found untraced functions such as lstm_cell_31_layer_call_and_return_conditional_losses, lstm_cell_31_layer_call_fn, lstm_cell_31_layer_call_fn, lstm_cell_31_layer_call_and_return_conditional_losses, lstm_cell_31_layer_call_and_return_conditional_losses while saving (showing 5 of 5). These functions will not be directly callable after loading.\n"
     ]
    },
    {
     "name": "stdout",
     "output_type": "stream",
     "text": [
      "INFO:tensorflow:Assets written to: .\\T2\\North\\0.5\\model\\assets\n"
     ]
    },
    {
     "name": "stderr",
     "output_type": "stream",
     "text": [
      "INFO:tensorflow:Assets written to: .\\T2\\North\\0.5\\model\\assets\n"
     ]
    },
    {
     "name": "stdout",
     "output_type": "stream",
     "text": [
      "0.2774902142384822\n",
      "Threshold: 0.4\n",
      "Intersections included: 2\n",
      "Epoch 00064: early stopping\n",
      "Epoch 00041: early stopping\n"
     ]
    },
    {
     "name": "stderr",
     "output_type": "stream",
     "text": [
      "WARNING:absl:Found untraced functions such as lstm_cell_33_layer_call_and_return_conditional_losses, lstm_cell_33_layer_call_fn, lstm_cell_33_layer_call_fn, lstm_cell_33_layer_call_and_return_conditional_losses, lstm_cell_33_layer_call_and_return_conditional_losses while saving (showing 5 of 5). These functions will not be directly callable after loading.\n",
      "WARNING:absl:Found untraced functions such as lstm_cell_33_layer_call_and_return_conditional_losses, lstm_cell_33_layer_call_fn, lstm_cell_33_layer_call_fn, lstm_cell_33_layer_call_and_return_conditional_losses, lstm_cell_33_layer_call_and_return_conditional_losses while saving (showing 5 of 5). These functions will not be directly callable after loading.\n"
     ]
    },
    {
     "name": "stdout",
     "output_type": "stream",
     "text": [
      "INFO:tensorflow:Assets written to: .\\T2\\North\\0.4\\model\\assets\n"
     ]
    },
    {
     "name": "stderr",
     "output_type": "stream",
     "text": [
      "INFO:tensorflow:Assets written to: .\\T2\\North\\0.4\\model\\assets\n"
     ]
    },
    {
     "name": "stdout",
     "output_type": "stream",
     "text": [
      "0.22319456870016913\n",
      "Threshold: 0.3\n",
      "same intersections, copy MSE\n"
     ]
    },
    {
     "name": "stderr",
     "output_type": "stream",
     "text": [
      "WARNING:absl:Found untraced functions such as lstm_cell_33_layer_call_and_return_conditional_losses, lstm_cell_33_layer_call_fn, lstm_cell_33_layer_call_fn, lstm_cell_33_layer_call_and_return_conditional_losses, lstm_cell_33_layer_call_and_return_conditional_losses while saving (showing 5 of 5). These functions will not be directly callable after loading.\n",
      "WARNING:absl:Found untraced functions such as lstm_cell_33_layer_call_and_return_conditional_losses, lstm_cell_33_layer_call_fn, lstm_cell_33_layer_call_fn, lstm_cell_33_layer_call_and_return_conditional_losses, lstm_cell_33_layer_call_and_return_conditional_losses while saving (showing 5 of 5). These functions will not be directly callable after loading.\n"
     ]
    },
    {
     "name": "stdout",
     "output_type": "stream",
     "text": [
      "INFO:tensorflow:Assets written to: .\\T2\\North\\0.3\\model\\assets\n"
     ]
    },
    {
     "name": "stderr",
     "output_type": "stream",
     "text": [
      "INFO:tensorflow:Assets written to: .\\T2\\North\\0.3\\model\\assets\n"
     ]
    },
    {
     "name": "stdout",
     "output_type": "stream",
     "text": [
      "0.22319456870016913\n",
      "Threshold: 0.2\n",
      "same intersections, copy MSE\n"
     ]
    },
    {
     "name": "stderr",
     "output_type": "stream",
     "text": [
      "WARNING:absl:Found untraced functions such as lstm_cell_33_layer_call_and_return_conditional_losses, lstm_cell_33_layer_call_fn, lstm_cell_33_layer_call_fn, lstm_cell_33_layer_call_and_return_conditional_losses, lstm_cell_33_layer_call_and_return_conditional_losses while saving (showing 5 of 5). These functions will not be directly callable after loading.\n",
      "WARNING:absl:Found untraced functions such as lstm_cell_33_layer_call_and_return_conditional_losses, lstm_cell_33_layer_call_fn, lstm_cell_33_layer_call_fn, lstm_cell_33_layer_call_and_return_conditional_losses, lstm_cell_33_layer_call_and_return_conditional_losses while saving (showing 5 of 5). These functions will not be directly callable after loading.\n"
     ]
    },
    {
     "name": "stdout",
     "output_type": "stream",
     "text": [
      "INFO:tensorflow:Assets written to: .\\T2\\North\\0.2\\model\\assets\n"
     ]
    },
    {
     "name": "stderr",
     "output_type": "stream",
     "text": [
      "INFO:tensorflow:Assets written to: .\\T2\\North\\0.2\\model\\assets\n"
     ]
    },
    {
     "name": "stdout",
     "output_type": "stream",
     "text": [
      "0.22319456870016913\n",
      "Threshold: 0\n",
      "Intersections included: 13\n",
      "Epoch 00022: early stopping\n",
      "Epoch 00022: early stopping\n"
     ]
    },
    {
     "name": "stderr",
     "output_type": "stream",
     "text": [
      "WARNING:absl:Found untraced functions such as lstm_cell_35_layer_call_and_return_conditional_losses, lstm_cell_35_layer_call_fn, lstm_cell_35_layer_call_fn, lstm_cell_35_layer_call_and_return_conditional_losses, lstm_cell_35_layer_call_and_return_conditional_losses while saving (showing 5 of 5). These functions will not be directly callable after loading.\n",
      "WARNING:absl:Found untraced functions such as lstm_cell_35_layer_call_and_return_conditional_losses, lstm_cell_35_layer_call_fn, lstm_cell_35_layer_call_fn, lstm_cell_35_layer_call_and_return_conditional_losses, lstm_cell_35_layer_call_and_return_conditional_losses while saving (showing 5 of 5). These functions will not be directly callable after loading.\n"
     ]
    },
    {
     "name": "stdout",
     "output_type": "stream",
     "text": [
      "INFO:tensorflow:Assets written to: .\\T2\\North\\0\\model\\assets\n"
     ]
    },
    {
     "name": "stderr",
     "output_type": "stream",
     "text": [
      "INFO:tensorflow:Assets written to: .\\T2\\North\\0\\model\\assets\n"
     ]
    },
    {
     "name": "stdout",
     "output_type": "stream",
     "text": [
      "0.3437427379056042\n"
     ]
    }
   ],
   "source": [
    "target_intersections={\"T1\":{\"North\":\"K504\", \"South\":\"K198\"},\n",
    "                      \"T2\":{\"North\":\"K703\", \"South\":\"K206\"}}\n",
    "thresholds = [1,0.8,0.7,0.6,0.5,0.4,0.3,0.2,0]\n",
    "def build_LSTMs(results,targets=target_intersections,thesholds=thresholds):\n",
    "    \"\"\"Takes the entire results dict and builds LSTM models for each trajectory and direction\"\"\"\n",
    "    errors={}\n",
    "    dfs={}\n",
    "    intersection_arrays = []\n",
    "    for trajectory in results.keys():\n",
    "        errors[trajectory]={}\n",
    "        print(\"Starting trajectory: {}\".format(trajectory))\n",
    "        for direction in results[trajectory]:\n",
    "            errors[trajectory][direction]={}\n",
    "            print(\"Starting direction: {}\".format(direction))\n",
    "            lof = results[trajectory][direction]['lof_df'] # load LOF DF for cors\n",
    "            data = pd.DataFrame()\n",
    "            for intersection_name in results[trajectory][direction]['raw']:\n",
    "                intersection = results[trajectory][direction]['raw'][intersection_name]\n",
    "                intersection = intersection.rename(columns={\"cars\": intersection_name})\n",
    "                intersection = intersection.set_index(pd.DatetimeIndex(intersection['timestamp']))\n",
    "                intersection = intersection.drop(columns=['timestamp'])\n",
    "                data = pd.merge(data, intersection, left_index=True, right_index=True, how='outer')\n",
    "            data.dropna(inplace=True)\n",
    "            dfs[\"{}_{}\".format(trajectory,direction)] = data\n",
    "\n",
    "            for threshold in thresholds:\n",
    "                errors[trajectory][direction][threshold] ={}\n",
    "                print(\"Threshold: {}\".format(threshold))\n",
    "                #grab relevant intersections:\n",
    "                target = target_intersections[trajectory][direction]\n",
    "\n",
    "                isct_inc = lof.corr()[lof.corr()[target]>=threshold].index.tolist()\n",
    "                if (isct_inc in intersection_arrays) & (threshold != 0.4):\n",
    "                    print(\"same intersections, copy MSE\")\n",
    "                    errors[trajectory][direction][threshold]['MSE'] = mse(preds,val_y)\n",
    "                else:    \n",
    "                    print(\"Intersections included: {}\".format(len(isct_inc)))\n",
    "                    errors[trajectory][direction][threshold]['intersections'] = isct_inc\n",
    "\n",
    "                    df = data[isct_inc].copy(deep=True)\n",
    "\n",
    "                    #move target var to front of DF\n",
    "                    df = df[ [target] + [ col for col in df.columns if col != target ] ]\n",
    "\n",
    "                    #do scaling:\n",
    "                    scaler = StandardScaler()\n",
    "                    df= scaler.fit_transform(df.values)\n",
    "                    df_test = df[math.ceil(len(df)*0.8):]\n",
    "                    df = df[:math.ceil(len(df)*0.8)]\n",
    "\n",
    "                    # specify the lag sequence\n",
    "                    sequence_length = 12\n",
    "                    n_features = len(isct_inc)\n",
    "                    # frame as supervised learning\n",
    "                    reframed = series_to_supervised(df, sequence_length, 1)\n",
    "                    # split into train and test sets\n",
    "                    values = reframed.values\n",
    "                    n_train_hours = math.ceil(len(df)*0.8)\n",
    "                    train = values[:n_train_hours, :]\n",
    "                    test = values[n_train_hours:, :]\n",
    "                    # split into input and outputs\n",
    "                    n_obs = sequence_length * n_features\n",
    "                    train_X, train_y = train[:, :n_obs], train[:, -n_features]\n",
    "                    test_X, test_y = test[:, :n_obs], test[:, -n_features]\n",
    "                    # reshape input to be 3D [samples, timesteps, features]\n",
    "                    train_X = train_X.reshape((train_X.shape[0], sequence_length, n_features))\n",
    "                    test_X = test_X.reshape((test_X.shape[0], sequence_length, n_features))\n",
    "                    #init model & train stuff\n",
    "                    model=init_model(train_X)\n",
    "                    history,model = train_model(train_X,train_y,test_X,test_y,model)\n",
    "\n",
    "                    #eval:\n",
    "                    reframed = series_to_supervised(df_test, sequence_length, 1)\n",
    "                    values = reframed.values\n",
    "                    train = values\n",
    "                    n_obs = sequence_length * n_features\n",
    "                    val_X, val_y = train[:, :n_obs], train[:, -n_features]\n",
    "                    val_X = val_X.reshape((val_X.shape[0], sequence_length, n_features))\n",
    "                    preds = model.predict(val_X)\n",
    "                    preds =preds.reshape(len(df_test)-sequence_length)\n",
    "\n",
    "                    model=init_model(train_X)\n",
    "                    history,model = train_model(train_X,train_y,test_X,test_y,model)\n",
    "\n",
    "                    #eval:\n",
    "                    reframed = series_to_supervised(df_test, sequence_length, 1)\n",
    "                    values = reframed.values\n",
    "                    train = values\n",
    "                    n_obs = sequence_length * n_features\n",
    "                    val_X, val_y = train[:, :n_obs], train[:, -n_features]\n",
    "                    val_X = val_X.reshape((val_X.shape[0], sequence_length, n_features))\n",
    "                    preds = model.predict(val_X)\n",
    "                    preds =preds.reshape(len(df_test)-sequence_length)\n",
    "\n",
    "\n",
    "                    errors[trajectory][direction][threshold]['df'] = pd.DataFrame({\"Real\":val_y,\"Predicted\":preds,'SE':(val_y-preds)**2})\n",
    "                    errors[trajectory][direction][threshold]['MSE'] = mse(preds,val_y)\n",
    "                #save model\n",
    "                \n",
    "                path= '.\\\\{}\\\\{}\\\\{}\\\\'.format(trajectory,direction,threshold)\n",
    "                if not os.path.exists(path):\n",
    "                    os.makedirs(path)\n",
    "                model.save(path+\"model\")\n",
    "                \n",
    "                print(mse(preds,val_y))\n",
    "                intersection_arrays.append(isct_inc)\n",
    "\n",
    "    return errors,dfs #errors\n",
    "lstm, data = build_LSTMs(data)\n"
   ]
  },
  {
   "cell_type": "code",
   "execution_count": null,
   "metadata": {},
   "outputs": [],
   "source": [
    "#t1 south 0 is the same as 0.3, but add it so function lower down doesn't break bc data is missing\n",
    "lstm['T1']['South'][0] = lstm['T1']['South'][0.3]"
   ]
  },
  {
   "cell_type": "code",
   "execution_count": 5,
   "metadata": {},
   "outputs": [],
   "source": [
    "with open('LSTM_results_april.pickle', 'wb') as file:\n",
    "    pickle.dump([lstm,data],file)  "
   ]
  },
  {
   "cell_type": "code",
   "execution_count": 6,
   "metadata": {
    "scrolled": true
   },
   "outputs": [
    {
     "data": {
      "text/plain": [
       "{'T1': {'North': {1: {'intersections': ['K504'],\n",
       "    'df':            Real  Predicted        SE\n",
       "    0     -0.856211  -0.200575  0.429858\n",
       "    1     -0.964397  -0.149855  0.663479\n",
       "    2     -0.928335  -0.121102  0.651626\n",
       "    3     -1.180771  -0.105568  1.156060\n",
       "    4     -1.180771  -0.115106  1.135642\n",
       "    ...         ...        ...       ...\n",
       "    26740 -1.144709  -0.233276  0.830710\n",
       "    26741 -1.180771  -0.224233  0.914964\n",
       "    26742 -1.180771  -0.214655  0.933379\n",
       "    26743 -1.180771  -0.224439  0.914571\n",
       "    26744 -1.288957  -0.232424  1.116264\n",
       "    \n",
       "    [26745 rows x 3 columns],\n",
       "    'MSE': 0.3427815773198963},\n",
       "   0.8: {'MSE': 0.3427815773198963},\n",
       "   0.7: {'MSE': 0.3427815773198963},\n",
       "   0.6: {'MSE': 0.3427815773198963},\n",
       "   0.5: {'intersections': ['K504', 'K559', 'K561'],\n",
       "    'df':            Real  Predicted        SE\n",
       "    0     -0.856211  -0.459764  0.157170\n",
       "    1     -0.964397  -0.356525  0.369509\n",
       "    2     -0.928335  -0.370402  0.311290\n",
       "    3     -1.180771  -0.359620  0.674288\n",
       "    4     -1.180771  -0.402815  0.605215\n",
       "    ...         ...        ...       ...\n",
       "    26740 -1.144709  -0.446538  0.487443\n",
       "    26741 -1.180771  -0.431628  0.561215\n",
       "    26742 -1.180771  -0.406505  0.599488\n",
       "    26743 -1.180771  -0.419172  0.580033\n",
       "    26744 -1.288957  -0.412342  0.768455\n",
       "    \n",
       "    [26745 rows x 3 columns],\n",
       "    'MSE': 0.29304494474254655},\n",
       "   0.4: {'intersections': ['K504', 'K556', 'K559', 'K561', 'K198'],\n",
       "    'df':            Real  Predicted        SE\n",
       "    0     -0.856211  -0.569741  0.082065\n",
       "    1     -0.964397  -0.541384  0.178940\n",
       "    2     -0.928335  -0.541431  0.149695\n",
       "    3     -1.180771  -0.567209  0.376458\n",
       "    4     -1.180771  -0.573773  0.368447\n",
       "    ...         ...        ...       ...\n",
       "    26740 -1.144709  -0.660924  0.234048\n",
       "    26741 -1.180771  -0.650121  0.281589\n",
       "    26742 -1.180771  -0.670755  0.260116\n",
       "    26743 -1.180771  -0.672143  0.258702\n",
       "    26744 -1.288957  -0.676636  0.374938\n",
       "    \n",
       "    [26745 rows x 3 columns],\n",
       "    'MSE': 0.18884876456930494},\n",
       "   0.3: {'MSE': 0.18884876456930494},\n",
       "   0.2: {'intersections': ['K504', 'K556', 'K557', 'K559', 'K561', 'K198'],\n",
       "    'df':            Real  Predicted        SE\n",
       "    0     -0.856211  -0.409467  0.199580\n",
       "    1     -0.964397  -0.301888  0.438919\n",
       "    2     -0.928335  -0.380637  0.299973\n",
       "    3     -1.180771  -0.388070  0.628374\n",
       "    4     -1.180771  -0.424693  0.571654\n",
       "    ...         ...        ...       ...\n",
       "    26740 -1.144709  -0.449079  0.483901\n",
       "    26741 -1.180771  -0.423608  0.573295\n",
       "    26742 -1.180771  -0.471365  0.503256\n",
       "    26743 -1.180771  -0.459617  0.520063\n",
       "    26744 -1.288957  -0.471209  0.668712\n",
       "    \n",
       "    [26745 rows x 3 columns],\n",
       "    'MSE': 0.2691478619198405},\n",
       "   0: {'intersections': ['K502',\n",
       "     'K504',\n",
       "     'K503',\n",
       "     'K263',\n",
       "     'K556',\n",
       "     'K557',\n",
       "     'K559',\n",
       "     'K561',\n",
       "     'K198'],\n",
       "    'df':            Real  Predicted        SE\n",
       "    0     -0.856211  -0.486552  0.136648\n",
       "    1     -0.964397  -0.482885  0.231854\n",
       "    2     -0.928335  -0.500979  0.182633\n",
       "    3     -1.180771  -0.506732  0.454328\n",
       "    4     -1.180771  -0.449733  0.534416\n",
       "    ...         ...        ...       ...\n",
       "    26740 -1.144709  -0.555876  0.346724\n",
       "    26741 -1.180771  -0.527193  0.427164\n",
       "    26742 -1.180771  -0.540559  0.409872\n",
       "    26743 -1.180771  -0.537577  0.413699\n",
       "    26744 -1.288957  -0.491785  0.635484\n",
       "    \n",
       "    [26745 rows x 3 columns],\n",
       "    'MSE': 0.23256425394573627}},\n",
       "  'South': {1: {'intersections': ['K198'],\n",
       "    'df':            Real  Predicted        SE\n",
       "    0     -1.237899  -0.219660  1.036811\n",
       "    1     -1.027906  -0.207315  0.673370\n",
       "    2     -1.185401  -0.174385  1.022153\n",
       "    3     -1.185401  -0.231342  0.910227\n",
       "    4     -1.132902  -0.238134  0.800610\n",
       "    ...         ...        ...       ...\n",
       "    26740 -0.870410  -0.157678  0.507988\n",
       "    26741 -1.237899  -0.164602  1.151968\n",
       "    26742 -1.080404  -0.230242  0.722776\n",
       "    26743 -0.870410  -0.206089  0.441323\n",
       "    26744 -1.237899  -0.166846  1.147154\n",
       "    \n",
       "    [26745 rows x 3 columns],\n",
       "    'MSE': 0.3992438442723274},\n",
       "   0.8: {'MSE': 0.3992438442723274},\n",
       "   0.7: {'MSE': 0.3992438442723274},\n",
       "   0.6: {'MSE': 0.3992438442723274},\n",
       "   0.5: {'MSE': 0.3992438442723274},\n",
       "   0.4: {'intersections': ['K504', 'K561', 'K198'],\n",
       "    'df':            Real  Predicted        SE\n",
       "    0     -1.237899  -0.899135  0.114762\n",
       "    1     -1.027906  -0.894385  0.017828\n",
       "    2     -1.185401  -0.832432  0.124587\n",
       "    3     -1.185401  -0.843520  0.116882\n",
       "    4     -1.132902  -0.850504  0.079749\n",
       "    ...         ...        ...       ...\n",
       "    26740 -0.870410  -0.709438  0.025912\n",
       "    26741 -1.237899  -0.792662  0.198236\n",
       "    26742 -1.080404  -0.901357  0.032058\n",
       "    26743 -0.870410  -0.827893  0.001808\n",
       "    26744 -1.237899  -0.666092  0.326963\n",
       "    \n",
       "    [26745 rows x 3 columns],\n",
       "    'MSE': 0.17589870417443107},\n",
       "   0.3: {'intersections': ['K504', 'K263', 'K556', 'K561', 'K198'],\n",
       "    'df':            Real  Predicted        SE\n",
       "    0     -1.237899  -0.449976  0.620822\n",
       "    1     -1.027906  -0.448002  0.336288\n",
       "    2     -1.185401  -0.399036  0.618370\n",
       "    3     -1.185401  -0.433119  0.565929\n",
       "    4     -1.132902  -0.424720  0.501523\n",
       "    ...         ...        ...       ...\n",
       "    26740 -0.870410  -0.355147  0.265496\n",
       "    26741 -1.237899  -0.373963  0.746386\n",
       "    26742 -1.080404  -0.466370  0.377038\n",
       "    26743 -0.870410  -0.432496  0.191769\n",
       "    26744 -1.237899  -0.373954  0.746401\n",
       "    \n",
       "    [26745 rows x 3 columns],\n",
       "    'MSE': 0.2948805556462067},\n",
       "   0.2: {'MSE': 0.2948805556462067},\n",
       "   0: {'MSE': 0.2948805556462067}}},\n",
       " 'T2': {'South': {1: {'intersections': ['K206'],\n",
       "    'df':            Real  Predicted        SE\n",
       "    0     -1.074352  -0.770607  0.092261\n",
       "    1     -1.128610  -0.711826  0.173709\n",
       "    2     -1.128610  -0.798179  0.109185\n",
       "    3     -0.721675  -0.760758  0.001527\n",
       "    4     -0.965836  -0.443621  0.272708\n",
       "    ...         ...        ...       ...\n",
       "    11939 -1.372771  -1.062578  0.096220\n",
       "    11940 -1.264255  -1.174428  0.008069\n",
       "    11941 -1.237126  -0.986649  0.062739\n",
       "    11942 -1.427029  -0.985094  0.195307\n",
       "    11943 -1.427029  -1.191397  0.055522\n",
       "    \n",
       "    [11944 rows x 3 columns],\n",
       "    'MSE': 0.14861446924184235},\n",
       "   0.8: {'MSE': 0.14861446924184235},\n",
       "   0.7: {'MSE': 0.14861446924184235},\n",
       "   0.6: {'MSE': 0.14861446924184235},\n",
       "   0.5: {'MSE': 0.14861446924184235},\n",
       "   0.4: {'intersections': ['K206'],\n",
       "    'df':            Real  Predicted        SE\n",
       "    0     -1.074352  -0.252724  0.675074\n",
       "    1     -1.128610  -0.308511  0.672562\n",
       "    2     -1.128610  -0.335147  0.629583\n",
       "    3     -0.721675  -0.339043  0.146407\n",
       "    4     -0.965836  -0.208870  0.572997\n",
       "    ...         ...        ...       ...\n",
       "    11939 -1.372771  -0.353389  1.039140\n",
       "    11940 -1.264255  -0.445514  0.670337\n",
       "    11941 -1.237126  -0.421813  0.664736\n",
       "    11942 -1.427029  -0.387243  1.081155\n",
       "    11943 -1.427029  -0.475625  0.905170\n",
       "    \n",
       "    [11944 rows x 3 columns],\n",
       "    'MSE': 0.31461960755556845},\n",
       "   0.3: {'MSE': 0.31461960755556845},\n",
       "   0.2: {'MSE': 0.31461960755556845},\n",
       "   0: {'intersections': ['K704',\n",
       "     'K702',\n",
       "     'K703',\n",
       "     'K159',\n",
       "     'K182',\n",
       "     'K183',\n",
       "     'K128',\n",
       "     'K139',\n",
       "     'K104',\n",
       "     'K101',\n",
       "     'K206',\n",
       "     'K074',\n",
       "     'K414',\n",
       "     'K415',\n",
       "     'K250'],\n",
       "    'df':            Real  Predicted        SE\n",
       "    0     -1.074352  -0.507329  0.321515\n",
       "    1     -1.128610  -0.516059  0.375218\n",
       "    2     -1.128610  -0.436249  0.479364\n",
       "    3     -0.721675  -0.526249  0.038191\n",
       "    4     -0.965836  -0.383078  0.339607\n",
       "    ...         ...        ...       ...\n",
       "    11939 -1.372771  -0.475015  0.805967\n",
       "    11940 -1.264255  -0.591489  0.452615\n",
       "    11941 -1.237126  -0.551861  0.469589\n",
       "    11942 -1.427029  -0.544382  0.779067\n",
       "    11943 -1.427029  -0.642907  0.614848\n",
       "    \n",
       "    [11944 rows x 3 columns],\n",
       "    'MSE': 0.25141314809530896}},\n",
       "  'North': {1: {'intersections': ['K703'],\n",
       "    'df':            Real  Predicted        SE\n",
       "    0     -1.136622  -0.474647  0.438211\n",
       "    1     -1.049401  -0.787729  0.068472\n",
       "    2     -1.049401  -0.722175  0.107077\n",
       "    3     -1.071206  -0.809342  0.068573\n",
       "    4     -1.158427  -0.717477  0.194437\n",
       "    ...         ...        ...       ...\n",
       "    11939 -1.267454  -0.627863  0.409076\n",
       "    11940 -1.289259  -0.801165  0.238236\n",
       "    11941 -1.398285  -0.748233  0.422568\n",
       "    11942 -1.441896  -0.828403  0.376374\n",
       "    11943 -1.354675  -0.833112  0.272028\n",
       "    \n",
       "    [11944 rows x 3 columns],\n",
       "    'MSE': 0.11959314462139356},\n",
       "   0.8: {'MSE': 0.11959314462139356},\n",
       "   0.7: {'MSE': 0.11959314462139356},\n",
       "   0.6: {'MSE': 0.11959314462139356},\n",
       "   0.5: {'intersections': ['K702', 'K703'],\n",
       "    'df':            Real  Predicted        SE\n",
       "    0     -1.136622  -0.286023  0.723519\n",
       "    1     -1.049401  -0.328976  0.519013\n",
       "    2     -1.049401  -0.337178  0.507261\n",
       "    3     -1.071206  -0.326395  0.554744\n",
       "    4     -1.158427  -0.370433  0.620935\n",
       "    ...         ...        ...       ...\n",
       "    11939 -1.267454  -0.438144  0.687755\n",
       "    11940 -1.289259  -0.463948  0.681138\n",
       "    11941 -1.398285  -0.442424  0.913670\n",
       "    11942 -1.441896  -0.459204  0.965684\n",
       "    11943 -1.354675  -0.517200  0.701364\n",
       "    \n",
       "    [11944 rows x 3 columns],\n",
       "    'MSE': 0.2774902142384822},\n",
       "   0.4: {'intersections': ['K702', 'K703'],\n",
       "    'df':            Real  Predicted        SE\n",
       "    0     -1.136622  -0.125175  1.023025\n",
       "    1     -1.049401  -0.286413  0.582150\n",
       "    2     -1.049401  -0.361077  0.473789\n",
       "    3     -1.071206  -0.330231  0.549044\n",
       "    4     -1.158427  -0.337104  0.674571\n",
       "    ...         ...        ...       ...\n",
       "    11939 -1.267454  -0.608860  0.433746\n",
       "    11940 -1.289259  -0.647054  0.412428\n",
       "    11941 -1.398285  -0.650901  0.558584\n",
       "    11942 -1.441896  -0.637107  0.647685\n",
       "    11943 -1.354675  -0.687435  0.445209\n",
       "    \n",
       "    [11944 rows x 3 columns],\n",
       "    'MSE': 0.22319456870016913},\n",
       "   0.3: {'MSE': 0.22319456870016913},\n",
       "   0.2: {'MSE': 0.22319456870016913},\n",
       "   0: {'intersections': ['K704',\n",
       "     'K702',\n",
       "     'K703',\n",
       "     'K182',\n",
       "     'K183',\n",
       "     'K139',\n",
       "     'K104',\n",
       "     'K101',\n",
       "     'K206',\n",
       "     'K074',\n",
       "     'K414',\n",
       "     'K415',\n",
       "     'K250'],\n",
       "    'df':            Real  Predicted        SE\n",
       "    0     -1.136622  -0.287299  0.721350\n",
       "    1     -1.049401  -0.295016  0.569097\n",
       "    2     -1.049401  -0.304747  0.554509\n",
       "    3     -1.071206  -0.262996  0.653204\n",
       "    4     -1.158427  -0.304309  0.729519\n",
       "    ...         ...        ...       ...\n",
       "    11939 -1.267454  -0.356771  0.829343\n",
       "    11940 -1.289259  -0.308823  0.961255\n",
       "    11941 -1.398285  -0.368164  1.061150\n",
       "    11942 -1.441896  -0.316996  1.265401\n",
       "    11943 -1.354675  -0.324771  1.060702\n",
       "    \n",
       "    [11944 rows x 3 columns],\n",
       "    'MSE': 0.3437427379056042}}}}"
      ]
     },
     "execution_count": 6,
     "metadata": {},
     "output_type": "execute_result"
    }
   ],
   "source": [
    "lstm"
   ]
  },
  {
   "cell_type": "code",
   "execution_count": 7,
   "metadata": {},
   "outputs": [],
   "source": [
    "def plot_results(errors):\n",
    "    df = pd.DataFrame()\n",
    "    row = {}\n",
    "    for trajectory in errors.keys():\n",
    "        for direction in errors[trajectory].keys():\n",
    "            row['model']=\"T{}_{}\".format(trajectory,direction[0])\n",
    "            for threshold in errors[trajectory][direction].keys():\n",
    "                row[\"T{}\".format(threshold)] = round(errors[trajectory][direction][threshold]['MSE'],3)\n",
    "            df = df.append(row,ignore_index=True)\n",
    "    return df\n",
    "test = plot_results(lstm)"
   ]
  },
  {
   "cell_type": "code",
   "execution_count": 9,
   "metadata": {},
   "outputs": [
    {
     "data": {
      "text/html": [
       "<div>\n",
       "<style scoped>\n",
       "    .dataframe tbody tr th:only-of-type {\n",
       "        vertical-align: middle;\n",
       "    }\n",
       "\n",
       "    .dataframe tbody tr th {\n",
       "        vertical-align: top;\n",
       "    }\n",
       "\n",
       "    .dataframe thead th {\n",
       "        text-align: right;\n",
       "    }\n",
       "</style>\n",
       "<table border=\"1\" class=\"dataframe\">\n",
       "  <thead>\n",
       "    <tr style=\"text-align: right;\">\n",
       "      <th></th>\n",
       "      <th>T0</th>\n",
       "      <th>T0.2</th>\n",
       "      <th>T0.3</th>\n",
       "      <th>T0.4</th>\n",
       "      <th>T0.5</th>\n",
       "      <th>T0.6</th>\n",
       "      <th>T0.7</th>\n",
       "      <th>T0.8</th>\n",
       "      <th>T1</th>\n",
       "    </tr>\n",
       "  </thead>\n",
       "  <tbody>\n",
       "    <tr>\n",
       "      <th>count</th>\n",
       "      <td>4.000000</td>\n",
       "      <td>4.000000</td>\n",
       "      <td>4.000000</td>\n",
       "      <td>4.000000</td>\n",
       "      <td>4.000000</td>\n",
       "      <td>4.000000</td>\n",
       "      <td>4.000000</td>\n",
       "      <td>4.000000</td>\n",
       "      <td>4.000000</td>\n",
       "    </tr>\n",
       "    <tr>\n",
       "      <th>mean</th>\n",
       "      <td>0.280750</td>\n",
       "      <td>0.275500</td>\n",
       "      <td>0.255500</td>\n",
       "      <td>0.225750</td>\n",
       "      <td>0.279500</td>\n",
       "      <td>0.252750</td>\n",
       "      <td>0.252750</td>\n",
       "      <td>0.252750</td>\n",
       "      <td>0.252750</td>\n",
       "    </tr>\n",
       "    <tr>\n",
       "      <th>std</th>\n",
       "      <td>0.049561</td>\n",
       "      <td>0.039745</td>\n",
       "      <td>0.059383</td>\n",
       "      <td>0.062713</td>\n",
       "      <td>0.102468</td>\n",
       "      <td>0.138949</td>\n",
       "      <td>0.138949</td>\n",
       "      <td>0.138949</td>\n",
       "      <td>0.138949</td>\n",
       "    </tr>\n",
       "    <tr>\n",
       "      <th>min</th>\n",
       "      <td>0.233000</td>\n",
       "      <td>0.223000</td>\n",
       "      <td>0.189000</td>\n",
       "      <td>0.176000</td>\n",
       "      <td>0.149000</td>\n",
       "      <td>0.120000</td>\n",
       "      <td>0.120000</td>\n",
       "      <td>0.120000</td>\n",
       "      <td>0.120000</td>\n",
       "    </tr>\n",
       "    <tr>\n",
       "      <th>25%</th>\n",
       "      <td>0.246500</td>\n",
       "      <td>0.257500</td>\n",
       "      <td>0.214500</td>\n",
       "      <td>0.185750</td>\n",
       "      <td>0.245000</td>\n",
       "      <td>0.141750</td>\n",
       "      <td>0.141750</td>\n",
       "      <td>0.141750</td>\n",
       "      <td>0.141750</td>\n",
       "    </tr>\n",
       "    <tr>\n",
       "      <th>50%</th>\n",
       "      <td>0.273000</td>\n",
       "      <td>0.282000</td>\n",
       "      <td>0.259000</td>\n",
       "      <td>0.206000</td>\n",
       "      <td>0.285000</td>\n",
       "      <td>0.246000</td>\n",
       "      <td>0.246000</td>\n",
       "      <td>0.246000</td>\n",
       "      <td>0.246000</td>\n",
       "    </tr>\n",
       "    <tr>\n",
       "      <th>75%</th>\n",
       "      <td>0.307250</td>\n",
       "      <td>0.300000</td>\n",
       "      <td>0.300000</td>\n",
       "      <td>0.246000</td>\n",
       "      <td>0.319500</td>\n",
       "      <td>0.357000</td>\n",
       "      <td>0.357000</td>\n",
       "      <td>0.357000</td>\n",
       "      <td>0.357000</td>\n",
       "    </tr>\n",
       "    <tr>\n",
       "      <th>max</th>\n",
       "      <td>0.344000</td>\n",
       "      <td>0.315000</td>\n",
       "      <td>0.315000</td>\n",
       "      <td>0.315000</td>\n",
       "      <td>0.399000</td>\n",
       "      <td>0.399000</td>\n",
       "      <td>0.399000</td>\n",
       "      <td>0.399000</td>\n",
       "      <td>0.399000</td>\n",
       "    </tr>\n",
       "  </tbody>\n",
       "</table>\n",
       "</div>"
      ],
      "text/plain": [
       "             T0      T0.2      T0.3      T0.4      T0.5      T0.6      T0.7  \\\n",
       "count  4.000000  4.000000  4.000000  4.000000  4.000000  4.000000  4.000000   \n",
       "mean   0.280750  0.275500  0.255500  0.225750  0.279500  0.252750  0.252750   \n",
       "std    0.049561  0.039745  0.059383  0.062713  0.102468  0.138949  0.138949   \n",
       "min    0.233000  0.223000  0.189000  0.176000  0.149000  0.120000  0.120000   \n",
       "25%    0.246500  0.257500  0.214500  0.185750  0.245000  0.141750  0.141750   \n",
       "50%    0.273000  0.282000  0.259000  0.206000  0.285000  0.246000  0.246000   \n",
       "75%    0.307250  0.300000  0.300000  0.246000  0.319500  0.357000  0.357000   \n",
       "max    0.344000  0.315000  0.315000  0.315000  0.399000  0.399000  0.399000   \n",
       "\n",
       "           T0.8        T1  \n",
       "count  4.000000  4.000000  \n",
       "mean   0.252750  0.252750  \n",
       "std    0.138949  0.138949  \n",
       "min    0.120000  0.120000  \n",
       "25%    0.141750  0.141750  \n",
       "50%    0.246000  0.246000  \n",
       "75%    0.357000  0.357000  \n",
       "max    0.399000  0.399000  "
      ]
     },
     "execution_count": 9,
     "metadata": {},
     "output_type": "execute_result"
    }
   ],
   "source": [
    "test.describe()"
   ]
  },
  {
   "cell_type": "code",
   "execution_count": 10,
   "metadata": {},
   "outputs": [
    {
     "data": {
      "text/html": [
       "<div>\n",
       "<style scoped>\n",
       "    .dataframe tbody tr th:only-of-type {\n",
       "        vertical-align: middle;\n",
       "    }\n",
       "\n",
       "    .dataframe tbody tr th {\n",
       "        vertical-align: top;\n",
       "    }\n",
       "\n",
       "    .dataframe thead th {\n",
       "        text-align: right;\n",
       "    }\n",
       "</style>\n",
       "<table border=\"1\" class=\"dataframe\">\n",
       "  <thead>\n",
       "    <tr style=\"text-align: right;\">\n",
       "      <th></th>\n",
       "      <th>T0</th>\n",
       "      <th>T0.2</th>\n",
       "      <th>T0.3</th>\n",
       "      <th>T0.4</th>\n",
       "      <th>T0.5</th>\n",
       "      <th>T0.6</th>\n",
       "      <th>T0.7</th>\n",
       "      <th>T0.8</th>\n",
       "      <th>T1</th>\n",
       "      <th>model</th>\n",
       "    </tr>\n",
       "  </thead>\n",
       "  <tbody>\n",
       "    <tr>\n",
       "      <th>0</th>\n",
       "      <td>0.233</td>\n",
       "      <td>0.269</td>\n",
       "      <td>0.189</td>\n",
       "      <td>0.189</td>\n",
       "      <td>0.293</td>\n",
       "      <td>0.343</td>\n",
       "      <td>0.343</td>\n",
       "      <td>0.343</td>\n",
       "      <td>0.343</td>\n",
       "      <td>TT1_N</td>\n",
       "    </tr>\n",
       "    <tr>\n",
       "      <th>1</th>\n",
       "      <td>0.295</td>\n",
       "      <td>0.295</td>\n",
       "      <td>0.295</td>\n",
       "      <td>0.176</td>\n",
       "      <td>0.399</td>\n",
       "      <td>0.399</td>\n",
       "      <td>0.399</td>\n",
       "      <td>0.399</td>\n",
       "      <td>0.399</td>\n",
       "      <td>TT1_S</td>\n",
       "    </tr>\n",
       "    <tr>\n",
       "      <th>2</th>\n",
       "      <td>0.251</td>\n",
       "      <td>0.315</td>\n",
       "      <td>0.315</td>\n",
       "      <td>0.315</td>\n",
       "      <td>0.149</td>\n",
       "      <td>0.149</td>\n",
       "      <td>0.149</td>\n",
       "      <td>0.149</td>\n",
       "      <td>0.149</td>\n",
       "      <td>TT2_S</td>\n",
       "    </tr>\n",
       "    <tr>\n",
       "      <th>3</th>\n",
       "      <td>0.344</td>\n",
       "      <td>0.223</td>\n",
       "      <td>0.223</td>\n",
       "      <td>0.223</td>\n",
       "      <td>0.277</td>\n",
       "      <td>0.120</td>\n",
       "      <td>0.120</td>\n",
       "      <td>0.120</td>\n",
       "      <td>0.120</td>\n",
       "      <td>TT2_N</td>\n",
       "    </tr>\n",
       "  </tbody>\n",
       "</table>\n",
       "</div>"
      ],
      "text/plain": [
       "      T0   T0.2   T0.3   T0.4   T0.5   T0.6   T0.7   T0.8     T1  model\n",
       "0  0.233  0.269  0.189  0.189  0.293  0.343  0.343  0.343  0.343  TT1_N\n",
       "1  0.295  0.295  0.295  0.176  0.399  0.399  0.399  0.399  0.399  TT1_S\n",
       "2  0.251  0.315  0.315  0.315  0.149  0.149  0.149  0.149  0.149  TT2_S\n",
       "3  0.344  0.223  0.223  0.223  0.277  0.120  0.120  0.120  0.120  TT2_N"
      ]
     },
     "execution_count": 10,
     "metadata": {},
     "output_type": "execute_result"
    }
   ],
   "source": [
    "test"
   ]
  },
  {
   "cell_type": "code",
   "execution_count": 20,
   "metadata": {},
   "outputs": [
    {
     "data": {
      "text/html": [
       "<div>\n",
       "<style scoped>\n",
       "    .dataframe tbody tr th:only-of-type {\n",
       "        vertical-align: middle;\n",
       "    }\n",
       "\n",
       "    .dataframe tbody tr th {\n",
       "        vertical-align: top;\n",
       "    }\n",
       "\n",
       "    .dataframe thead th {\n",
       "        text-align: right;\n",
       "    }\n",
       "</style>\n",
       "<table border=\"1\" class=\"dataframe\">\n",
       "  <thead>\n",
       "    <tr style=\"text-align: right;\">\n",
       "      <th></th>\n",
       "      <th>T0</th>\n",
       "      <th>T0.2</th>\n",
       "      <th>T0.3</th>\n",
       "      <th>T0.4</th>\n",
       "      <th>T0.5</th>\n",
       "      <th>T0.6</th>\n",
       "      <th>T0.7</th>\n",
       "      <th>T0.8</th>\n",
       "      <th>T1</th>\n",
       "      <th>model</th>\n",
       "    </tr>\n",
       "  </thead>\n",
       "  <tbody>\n",
       "    <tr>\n",
       "      <th>0</th>\n",
       "      <td>0.23300</td>\n",
       "      <td>0.2690</td>\n",
       "      <td>0.1890</td>\n",
       "      <td>0.18900</td>\n",
       "      <td>0.2930</td>\n",
       "      <td>0.34300</td>\n",
       "      <td>0.34300</td>\n",
       "      <td>0.34300</td>\n",
       "      <td>0.34300</td>\n",
       "      <td>TT1_N</td>\n",
       "    </tr>\n",
       "    <tr>\n",
       "      <th>1</th>\n",
       "      <td>0.29500</td>\n",
       "      <td>0.2950</td>\n",
       "      <td>0.2950</td>\n",
       "      <td>0.17600</td>\n",
       "      <td>0.3990</td>\n",
       "      <td>0.39900</td>\n",
       "      <td>0.39900</td>\n",
       "      <td>0.39900</td>\n",
       "      <td>0.39900</td>\n",
       "      <td>TT1_S</td>\n",
       "    </tr>\n",
       "    <tr>\n",
       "      <th>2</th>\n",
       "      <td>0.25100</td>\n",
       "      <td>0.3150</td>\n",
       "      <td>0.3150</td>\n",
       "      <td>0.31500</td>\n",
       "      <td>0.1490</td>\n",
       "      <td>0.14900</td>\n",
       "      <td>0.14900</td>\n",
       "      <td>0.14900</td>\n",
       "      <td>0.14900</td>\n",
       "      <td>TT2_S</td>\n",
       "    </tr>\n",
       "    <tr>\n",
       "      <th>3</th>\n",
       "      <td>0.34400</td>\n",
       "      <td>0.2230</td>\n",
       "      <td>0.2230</td>\n",
       "      <td>0.22300</td>\n",
       "      <td>0.2770</td>\n",
       "      <td>0.12000</td>\n",
       "      <td>0.12000</td>\n",
       "      <td>0.12000</td>\n",
       "      <td>0.12000</td>\n",
       "      <td>TT2_N</td>\n",
       "    </tr>\n",
       "    <tr>\n",
       "      <th>mean</th>\n",
       "      <td>0.28075</td>\n",
       "      <td>0.2755</td>\n",
       "      <td>0.2555</td>\n",
       "      <td>0.22575</td>\n",
       "      <td>0.2795</td>\n",
       "      <td>0.25275</td>\n",
       "      <td>0.25275</td>\n",
       "      <td>0.25275</td>\n",
       "      <td>0.25275</td>\n",
       "      <td>NaN</td>\n",
       "    </tr>\n",
       "  </tbody>\n",
       "</table>\n",
       "</div>"
      ],
      "text/plain": [
       "           T0    T0.2    T0.3     T0.4    T0.5     T0.6     T0.7     T0.8  \\\n",
       "0     0.23300  0.2690  0.1890  0.18900  0.2930  0.34300  0.34300  0.34300   \n",
       "1     0.29500  0.2950  0.2950  0.17600  0.3990  0.39900  0.39900  0.39900   \n",
       "2     0.25100  0.3150  0.3150  0.31500  0.1490  0.14900  0.14900  0.14900   \n",
       "3     0.34400  0.2230  0.2230  0.22300  0.2770  0.12000  0.12000  0.12000   \n",
       "mean  0.28075  0.2755  0.2555  0.22575  0.2795  0.25275  0.25275  0.25275   \n",
       "\n",
       "           T1  model  \n",
       "0     0.34300  TT1_N  \n",
       "1     0.39900  TT1_S  \n",
       "2     0.14900  TT2_S  \n",
       "3     0.12000  TT2_N  \n",
       "mean  0.25275    NaN  "
      ]
     },
     "execution_count": 20,
     "metadata": {},
     "output_type": "execute_result"
    }
   ],
   "source": [
    "test.append(test.describe().iloc[1])"
   ]
  },
  {
   "cell_type": "code",
   "execution_count": 12,
   "metadata": {},
   "outputs": [
    {
     "data": {
      "text/plain": [
       "dict_keys(['T1_North', 'T1_South', 'T2_South', 'T2_North'])"
      ]
     },
     "execution_count": 12,
     "metadata": {},
     "output_type": "execute_result"
    }
   ],
   "source": [
    "data.keys()"
   ]
  },
  {
   "cell_type": "code",
   "execution_count": 14,
   "metadata": {},
   "outputs": [
    {
     "data": {
      "text/plain": [
       "dict_keys(['T1', 'T2'])"
      ]
     },
     "execution_count": 14,
     "metadata": {},
     "output_type": "execute_result"
    }
   ],
   "source": [
    "lstm.keys()"
   ]
  },
  {
   "cell_type": "code",
   "execution_count": 18,
   "metadata": {},
   "outputs": [
    {
     "data": {
      "text/html": [
       "<div>\n",
       "<style scoped>\n",
       "    .dataframe tbody tr th:only-of-type {\n",
       "        vertical-align: middle;\n",
       "    }\n",
       "\n",
       "    .dataframe tbody tr th {\n",
       "        vertical-align: top;\n",
       "    }\n",
       "\n",
       "    .dataframe thead th {\n",
       "        text-align: right;\n",
       "    }\n",
       "</style>\n",
       "<table border=\"1\" class=\"dataframe\">\n",
       "  <thead>\n",
       "    <tr style=\"text-align: right;\">\n",
       "      <th></th>\n",
       "      <th>Real</th>\n",
       "      <th>Predicted</th>\n",
       "      <th>SE</th>\n",
       "    </tr>\n",
       "  </thead>\n",
       "  <tbody>\n",
       "    <tr>\n",
       "      <th>0</th>\n",
       "      <td>-0.856211</td>\n",
       "      <td>-0.200575</td>\n",
       "      <td>0.429858</td>\n",
       "    </tr>\n",
       "    <tr>\n",
       "      <th>1</th>\n",
       "      <td>-0.964397</td>\n",
       "      <td>-0.149855</td>\n",
       "      <td>0.663479</td>\n",
       "    </tr>\n",
       "    <tr>\n",
       "      <th>2</th>\n",
       "      <td>-0.928335</td>\n",
       "      <td>-0.121102</td>\n",
       "      <td>0.651626</td>\n",
       "    </tr>\n",
       "    <tr>\n",
       "      <th>3</th>\n",
       "      <td>-1.180771</td>\n",
       "      <td>-0.105568</td>\n",
       "      <td>1.156060</td>\n",
       "    </tr>\n",
       "    <tr>\n",
       "      <th>4</th>\n",
       "      <td>-1.180771</td>\n",
       "      <td>-0.115106</td>\n",
       "      <td>1.135642</td>\n",
       "    </tr>\n",
       "    <tr>\n",
       "      <th>...</th>\n",
       "      <td>...</td>\n",
       "      <td>...</td>\n",
       "      <td>...</td>\n",
       "    </tr>\n",
       "    <tr>\n",
       "      <th>26740</th>\n",
       "      <td>-1.144709</td>\n",
       "      <td>-0.233276</td>\n",
       "      <td>0.830710</td>\n",
       "    </tr>\n",
       "    <tr>\n",
       "      <th>26741</th>\n",
       "      <td>-1.180771</td>\n",
       "      <td>-0.224233</td>\n",
       "      <td>0.914964</td>\n",
       "    </tr>\n",
       "    <tr>\n",
       "      <th>26742</th>\n",
       "      <td>-1.180771</td>\n",
       "      <td>-0.214655</td>\n",
       "      <td>0.933379</td>\n",
       "    </tr>\n",
       "    <tr>\n",
       "      <th>26743</th>\n",
       "      <td>-1.180771</td>\n",
       "      <td>-0.224439</td>\n",
       "      <td>0.914571</td>\n",
       "    </tr>\n",
       "    <tr>\n",
       "      <th>26744</th>\n",
       "      <td>-1.288957</td>\n",
       "      <td>-0.232424</td>\n",
       "      <td>1.116264</td>\n",
       "    </tr>\n",
       "  </tbody>\n",
       "</table>\n",
       "<p>26745 rows × 3 columns</p>\n",
       "</div>"
      ],
      "text/plain": [
       "           Real  Predicted        SE\n",
       "0     -0.856211  -0.200575  0.429858\n",
       "1     -0.964397  -0.149855  0.663479\n",
       "2     -0.928335  -0.121102  0.651626\n",
       "3     -1.180771  -0.105568  1.156060\n",
       "4     -1.180771  -0.115106  1.135642\n",
       "...         ...        ...       ...\n",
       "26740 -1.144709  -0.233276  0.830710\n",
       "26741 -1.180771  -0.224233  0.914964\n",
       "26742 -1.180771  -0.214655  0.933379\n",
       "26743 -1.180771  -0.224439  0.914571\n",
       "26744 -1.288957  -0.232424  1.116264\n",
       "\n",
       "[26745 rows x 3 columns]"
      ]
     },
     "execution_count": 18,
     "metadata": {},
     "output_type": "execute_result"
    }
   ],
   "source": [
    "lstm['T1']['North'][1]['df']"
   ]
  },
  {
   "cell_type": "code",
   "execution_count": 42,
   "metadata": {
    "scrolled": true
   },
   "outputs": [],
   "source": [
    "a = data['T1_North'].iloc[-len(lstm['T1']['North'][1]['df'])].name"
   ]
  },
  {
   "cell_type": "code",
   "execution_count": 38,
   "metadata": {},
   "outputs": [
    {
     "data": {
      "text/plain": [
       "array([False, False, False, ...,  True,  True,  True])"
      ]
     },
     "execution_count": 38,
     "metadata": {},
     "output_type": "execute_result"
    }
   ],
   "source": [
    "results['T1']results['T1']['North']['lof_df'].index>pd.Timestamp('2019-12-22 07:15:00')"
   ]
  },
  {
   "cell_type": "code",
   "execution_count": 163,
   "metadata": {},
   "outputs": [],
   "source": [
    "def outlier_mse_calc(lstm=lstm,data=data,results=results,outliers=5,target_intersections=target_intersections):\n",
    "    \"\"\"calculates MSE per model for top 'outliers' in test set\"\"\"\n",
    "    mse_results=pd.DataFrame(columns=['Model','T 1.0','T 0.4','T 0.0'])\n",
    "    thresholds = [1,0.4,0]\n",
    "    for trajectory in ['T1','T2']:\n",
    "        for direction in results[trajectory].keys():\n",
    "            mses=[]\n",
    "            for threshold in thresholds:\n",
    "                #get preds, rawdata & lof dfs:\n",
    "                preds = lstm[trajectory][direction][threshold]['df'].copy(deep=True)\n",
    "                rawdata = data['{}_{}'.format(trajectory, direction)].iloc[-len(preds):].copy(deep=True)\n",
    "                lof = results[trajectory][direction]['lof_df'].copy(deep=True)\n",
    "                #take LOF df:\n",
    "                lof = lof[lof.index> rawdata.iloc[0].name]\n",
    "                \n",
    "                #sort LOF df on outliers & take top 5 outliers for target intersection:\n",
    "                lof.sort_values(by=target_intersections[trajectory][direction], ascending=False, inplace=True)\n",
    "                outliers = lof.iloc[:5].index\n",
    "                \n",
    "                #insert dates on lstm preds df:\n",
    "                preds['Time'] = rawdata.index\n",
    "                outlier_df= pd.DataFrame()\n",
    "\n",
    "                for outlier in outliers:\n",
    "                    one_outlier = preds[(preds['Time']>=outlier) & (preds['Time']<(outlier+pd.Timedelta('1H')))]\n",
    "                    outlier_df = pd.concat([outlier_df,one_outlier])\n",
    "                mses.append(round(outlier_df['SE'].mean(),3))\n",
    "            mse_results = mse_results.append({'Model':\"{}_{}\".format(trajectory,direction),\n",
    "                                'T 1.0':mses[0],'T 0.4':mses[1],'T 0.0':mses[2]},ignore_index=True)\n",
    "    return mse_results"
   ]
  },
  {
   "cell_type": "code",
   "execution_count": 164,
   "metadata": {},
   "outputs": [],
   "source": [
    "mse_results = outlier_mse_calc()"
   ]
  },
  {
   "cell_type": "code",
   "execution_count": 165,
   "metadata": {
    "scrolled": true
   },
   "outputs": [
    {
     "data": {
      "text/html": [
       "<div>\n",
       "<style scoped>\n",
       "    .dataframe tbody tr th:only-of-type {\n",
       "        vertical-align: middle;\n",
       "    }\n",
       "\n",
       "    .dataframe tbody tr th {\n",
       "        vertical-align: top;\n",
       "    }\n",
       "\n",
       "    .dataframe thead th {\n",
       "        text-align: right;\n",
       "    }\n",
       "</style>\n",
       "<table border=\"1\" class=\"dataframe\">\n",
       "  <thead>\n",
       "    <tr style=\"text-align: right;\">\n",
       "      <th></th>\n",
       "      <th>Model</th>\n",
       "      <th>T 1.0</th>\n",
       "      <th>T 0.4</th>\n",
       "      <th>T 0.0</th>\n",
       "    </tr>\n",
       "  </thead>\n",
       "  <tbody>\n",
       "    <tr>\n",
       "      <th>0</th>\n",
       "      <td>T1_North</td>\n",
       "      <td>0.776</td>\n",
       "      <td>0.371</td>\n",
       "      <td>0.532</td>\n",
       "    </tr>\n",
       "    <tr>\n",
       "      <th>1</th>\n",
       "      <td>T1_South</td>\n",
       "      <td>0.989</td>\n",
       "      <td>0.422</td>\n",
       "      <td>0.720</td>\n",
       "    </tr>\n",
       "    <tr>\n",
       "      <th>2</th>\n",
       "      <td>T2_South</td>\n",
       "      <td>0.195</td>\n",
       "      <td>0.704</td>\n",
       "      <td>0.585</td>\n",
       "    </tr>\n",
       "    <tr>\n",
       "      <th>3</th>\n",
       "      <td>T2_North</td>\n",
       "      <td>0.160</td>\n",
       "      <td>0.173</td>\n",
       "      <td>0.201</td>\n",
       "    </tr>\n",
       "  </tbody>\n",
       "</table>\n",
       "</div>"
      ],
      "text/plain": [
       "      Model  T 1.0  T 0.4  T 0.0\n",
       "0  T1_North  0.776  0.371  0.532\n",
       "1  T1_South  0.989  0.422  0.720\n",
       "2  T2_South  0.195  0.704  0.585\n",
       "3  T2_North  0.160  0.173  0.201"
      ]
     },
     "execution_count": 165,
     "metadata": {},
     "output_type": "execute_result"
    }
   ],
   "source": [
    "mse_results"
   ]
  },
  {
   "cell_type": "code",
   "execution_count": 166,
   "metadata": {},
   "outputs": [],
   "source": [
    "mse_results = mse_results.append({'Model':'Mean','T 1.0':round(mse_results.describe().iloc[1]['T 1.0'],3),\n",
    "                                  \"T 0.4\":round(mse_results.describe().iloc[1]['T 0.4'],3),\n",
    "                                  'T 0.0':round(mse_results.describe().iloc[1]['T 0.0'],3)},ignore_index=True)"
   ]
  },
  {
   "cell_type": "code",
   "execution_count": 167,
   "metadata": {},
   "outputs": [
    {
     "data": {
      "text/html": [
       "<div>\n",
       "<style scoped>\n",
       "    .dataframe tbody tr th:only-of-type {\n",
       "        vertical-align: middle;\n",
       "    }\n",
       "\n",
       "    .dataframe tbody tr th {\n",
       "        vertical-align: top;\n",
       "    }\n",
       "\n",
       "    .dataframe thead th {\n",
       "        text-align: right;\n",
       "    }\n",
       "</style>\n",
       "<table border=\"1\" class=\"dataframe\">\n",
       "  <thead>\n",
       "    <tr style=\"text-align: right;\">\n",
       "      <th></th>\n",
       "      <th>Model</th>\n",
       "      <th>T 1.0</th>\n",
       "      <th>T 0.4</th>\n",
       "      <th>T 0.0</th>\n",
       "    </tr>\n",
       "  </thead>\n",
       "  <tbody>\n",
       "    <tr>\n",
       "      <th>0</th>\n",
       "      <td>T1_North</td>\n",
       "      <td>0.776</td>\n",
       "      <td>0.371</td>\n",
       "      <td>0.532</td>\n",
       "    </tr>\n",
       "    <tr>\n",
       "      <th>1</th>\n",
       "      <td>T1_South</td>\n",
       "      <td>0.989</td>\n",
       "      <td>0.422</td>\n",
       "      <td>0.720</td>\n",
       "    </tr>\n",
       "    <tr>\n",
       "      <th>2</th>\n",
       "      <td>T2_South</td>\n",
       "      <td>0.195</td>\n",
       "      <td>0.704</td>\n",
       "      <td>0.585</td>\n",
       "    </tr>\n",
       "    <tr>\n",
       "      <th>3</th>\n",
       "      <td>T2_North</td>\n",
       "      <td>0.160</td>\n",
       "      <td>0.173</td>\n",
       "      <td>0.201</td>\n",
       "    </tr>\n",
       "    <tr>\n",
       "      <th>4</th>\n",
       "      <td>Mean</td>\n",
       "      <td>0.530</td>\n",
       "      <td>0.418</td>\n",
       "      <td>0.509</td>\n",
       "    </tr>\n",
       "  </tbody>\n",
       "</table>\n",
       "</div>"
      ],
      "text/plain": [
       "      Model  T 1.0  T 0.4  T 0.0\n",
       "0  T1_North  0.776  0.371  0.532\n",
       "1  T1_South  0.989  0.422  0.720\n",
       "2  T2_South  0.195  0.704  0.585\n",
       "3  T2_North  0.160  0.173  0.201\n",
       "4      Mean  0.530  0.418  0.509"
      ]
     },
     "execution_count": 167,
     "metadata": {},
     "output_type": "execute_result"
    }
   ],
   "source": [
    "mse_results"
   ]
  },
  {
   "cell_type": "code",
   "execution_count": 168,
   "metadata": {},
   "outputs": [
    {
     "name": "stdout",
     "output_type": "stream",
     "text": [
      "\\begin{tabular}{llrrr}\n",
      "\\toprule\n",
      "{} &     Model &  T 1.0 &  T 0.4 &  T 0.0 \\\\\n",
      "\\midrule\n",
      "0 &  T1\\_North &  0.776 &  0.371 &  0.532 \\\\\n",
      "1 &  T1\\_South &  0.989 &  0.422 &  0.720 \\\\\n",
      "2 &  T2\\_South &  0.195 &  0.704 &  0.585 \\\\\n",
      "3 &  T2\\_North &  0.160 &  0.173 &  0.201 \\\\\n",
      "4 &      Mean &  0.530 &  0.418 &  0.509 \\\\\n",
      "\\bottomrule\n",
      "\\end{tabular}\n",
      "\n"
     ]
    }
   ],
   "source": [
    "print(mse_results.to_latex())"
   ]
  },
  {
   "cell_type": "code",
   "execution_count": 169,
   "metadata": {},
   "outputs": [],
   "source": [
    "#nice. Should also change results for other stuff in the paper. "
   ]
  },
  {
   "cell_type": "code",
   "execution_count": 170,
   "metadata": {},
   "outputs": [],
   "source": [
    "#save all stuff extra:\n",
    "all_stuff = [lstm,data,results]\n",
    "with open('march30_save.pickle', 'wb') as f:\n",
    "    pickle.dump(all_stuff,f)\n",
    "    "
   ]
  },
  {
   "cell_type": "code",
   "execution_count": null,
   "metadata": {},
   "outputs": [],
   "source": []
  }
 ],
 "metadata": {
  "kernelspec": {
   "display_name": "Python 3",
   "language": "python",
   "name": "python3"
  },
  "language_info": {
   "codemirror_mode": {
    "name": "ipython",
    "version": 3
   },
   "file_extension": ".py",
   "mimetype": "text/x-python",
   "name": "python",
   "nbconvert_exporter": "python",
   "pygments_lexer": "ipython3",
   "version": "3.8.8"
  },
  "varInspector": {
   "cols": {
    "lenName": 16,
    "lenType": 16,
    "lenVar": 40
   },
   "kernels_config": {
    "python": {
     "delete_cmd_postfix": "",
     "delete_cmd_prefix": "del ",
     "library": "var_list.py",
     "varRefreshCmd": "print(var_dic_list())"
    },
    "r": {
     "delete_cmd_postfix": ") ",
     "delete_cmd_prefix": "rm(",
     "library": "var_list.r",
     "varRefreshCmd": "cat(var_dic_list()) "
    }
   },
   "types_to_exclude": [
    "module",
    "function",
    "builtin_function_or_method",
    "instance",
    "_Feature"
   ],
   "window_display": false
  }
 },
 "nbformat": 4,
 "nbformat_minor": 4
}
